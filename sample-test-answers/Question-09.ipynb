{
 "cells": [
  {
   "cell_type": "markdown",
   "id": "3af02558-9cfb-4490-a614-18fa834b2f04",
   "metadata": {},
   "source": [
    "# Question 9\n",
    "\n",
    "#### Which code fragment will produce a multi-qubit gate other than a CNOT?"
   ]
  },
  {
   "cell_type": "markdown",
   "id": "11423c8f-1a34-43f6-bec7-4988fa7d991b",
   "metadata": {
    "tags": []
   },
   "source": [
    "## Answer Options\n",
    "\n",
    "**A.** `qc.cx(0,1)`  \n",
    "**B.** `qc.cnot(0,1)`  \n",
    "**C.** `qc.mct([0],1)`  \n",
    "**D.** `qc.cz(0,1)`"
   ]
  },
  {
   "cell_type": "markdown",
   "id": "b0100e8a-2b3d-4cd9-bb93-37de00af7ef6",
   "metadata": {
    "jp-MarkdownHeadingCollapsed": true,
    "tags": []
   },
   "source": [
    "## Question Explanation"
   ]
  },
  {
   "cell_type": "markdown",
   "id": "e6ab0828-f175-4515-9f7d-43355fed38df",
   "metadata": {},
   "source": [
    "For this question, one must be familiar with the different multi-qubit gates that are possible to call on a `QuantumCircuit` in Qiskit.\n",
    "Specifically, one must understand the multi-qubit controlled-not gates."
   ]
  },
  {
   "cell_type": "markdown",
   "id": "c9efafda-6d54-4abe-abd1-8f9ec59d4180",
   "metadata": {
    "tags": []
   },
   "source": [
    "## References"
   ]
  },
  {
   "cell_type": "markdown",
   "id": "5ab7aaa0-4744-4eda-80c2-9273b4a04900",
   "metadata": {},
   "source": [
    "* [Qiskit QuantumCircuit API](https://qiskit.org/documentation/stubs/qiskit.circuit.QuantumCircuit.html?highlight=quantumcircuit#qiskit.circuit.QuantumCircuit)   "
   ]
  },
  {
   "cell_type": "markdown",
   "id": "5483029f-3803-4b75-a5e0-786ecfa15907",
   "metadata": {
    "jp-MarkdownHeadingCollapsed": true,
    "tags": []
   },
   "source": [
    "## Correct Answer"
   ]
  },
  {
   "cell_type": "markdown",
   "id": "336be34a-1cbf-4256-bf29-fceefd8ef050",
   "metadata": {},
   "source": [
    "**D.** `qc.cz(0,1)`"
   ]
  },
  {
   "cell_type": "markdown",
   "id": "e2363f9b-5b8f-49f3-a090-f144e42b232a",
   "metadata": {
    "jp-MarkdownHeadingCollapsed": true,
    "tags": []
   },
   "source": [
    "## Answer Explanations"
   ]
  },
  {
   "cell_type": "markdown",
   "id": "3b22859d-45b6-460b-8394-69eaa490ce35",
   "metadata": {
    "jp-MarkdownHeadingCollapsed": true,
    "tags": []
   },
   "source": [
    "### Answer A"
   ]
  },
  {
   "cell_type": "markdown",
   "id": "9ef3e69e-81af-4949-9905-6a991dd084ef",
   "metadata": {
    "tags": []
   },
   "source": [
    "`qc.cx(0,1)`\n",
    "\n",
    "A $CX$ gate is a $CNOT$ gate, since an $X$ gate is also referred to as a $NOT$ gate.\n",
    "\n",
    "#### Let's take a closer look:"
   ]
  },
  {
   "cell_type": "code",
   "execution_count": 1,
   "id": "dc1866c8-2a62-450b-97c1-79b3dc4f3a47",
   "metadata": {},
   "outputs": [
    {
     "data": {
      "image/png": "[encoded data removed]",
      "text/plain": [
       "<Figure size 203.683x200.667 with 1 Axes>"
      ]
     },
     "execution_count": 1,
     "metadata": {},
     "output_type": "execute_result"
    }
   ],
   "source": [
    "from qiskit import QuantumCircuit\n",
    "\n",
    "qc = QuantumCircuit(2)\n",
    "qc.cx(0, 1)\n",
    "qc.draw(\"mpl\")"
   ]
  },
  {
   "cell_type": "markdown",
   "id": "f4b19d3b-db71-4161-861f-ced5648b6630",
   "metadata": {},
   "source": [
    "As you can see, answer A creates a $CNOT$ gate."
   ]
  },
  {
   "cell_type": "markdown",
   "id": "00136eb6-dfab-436f-8b2e-e098a4d88b00",
   "metadata": {
    "jp-MarkdownHeadingCollapsed": true,
    "tags": []
   },
   "source": [
    "### Answer B"
   ]
  },
  {
   "cell_type": "markdown",
   "id": "f71750b0-e1d5-44bf-b330-b242e59c759c",
   "metadata": {
    "tags": []
   },
   "source": [
    "`qc.cnot(0,1)`\n",
    "\n",
    "This directly applies a $CNOT$ gate.\n",
    "\n",
    "#### Let's take a closer look:"
   ]
  },
  {
   "cell_type": "code",
   "execution_count": 2,
   "id": "9fbe17ec-f8f3-4db3-a00a-7ca7203ae4d5",
   "metadata": {},
   "outputs": [
    {
     "data": {
      "image/png": "[encoded data removed]",
      "text/plain": [
       "<Figure size 203.683x200.667 with 1 Axes>"
      ]
     },
     "execution_count": 2,
     "metadata": {},
     "output_type": "execute_result"
    }
   ],
   "source": [
    "from qiskit import QuantumCircuit\n",
    "\n",
    "qc = QuantumCircuit(2)\n",
    "qc.cnot(0, 1)\n",
    "qc.draw(\"mpl\")"
   ]
  },
  {
   "cell_type": "markdown",
   "id": "da3bc480-33fb-4345-b821-39747d047ed6",
   "metadata": {},
   "source": [
    "As you can see, answer B creates a $CNOT$ gate."
   ]
  },
  {
   "cell_type": "markdown",
   "id": "e894ef46-6324-4b34-bd9c-3fa8cd150391",
   "metadata": {
    "jp-MarkdownHeadingCollapsed": true,
    "tags": []
   },
   "source": [
    "### Answer C"
   ]
  },
  {
   "cell_type": "markdown",
   "id": "01952036-25af-4f21-84e3-7bf8628d4cb8",
   "metadata": {},
   "source": [
    "`qc.mct([0],1)`\n",
    "\n",
    "This applies a $CNOT$ gate by applying a multi-control $CNOT$ with the only control qubit being the first qubit.\n",
    "\n",
    "#### Let's take a closer look:"
   ]
  },
  {
   "cell_type": "code",
   "execution_count": 3,
   "id": "20ee2824-6568-4968-bbce-910737713986",
   "metadata": {},
   "outputs": [
    {
     "data": {
      "image/png": "[encoded data removed]",
      "text/plain": [
       "<Figure size 203.683x200.667 with 1 Axes>"
      ]
     },
     "execution_count": 3,
     "metadata": {},
     "output_type": "execute_result"
    }
   ],
   "source": [
    "from qiskit import QuantumCircuit\n",
    "\n",
    "qc = QuantumCircuit(2)\n",
    "qc.mct([0], 1)\n",
    "qc.draw(\"mpl\")"
   ]
  },
  {
   "cell_type": "markdown",
   "id": "41670744-4354-4f34-8b46-f71c27994ab4",
   "metadata": {},
   "source": [
    "As you can see, answer C creates a $CNOT$ gate."
   ]
  },
  {
   "cell_type": "markdown",
   "id": "15afd510-0fb4-43fa-8caf-7f3ce5e1302e",
   "metadata": {
    "jp-MarkdownHeadingCollapsed": true,
    "tags": []
   },
   "source": [
    "### Answer D"
   ]
  },
  {
   "cell_type": "markdown",
   "id": "162e7c30-818a-4dd8-8c4e-4ff6a47dc3d8",
   "metadata": {},
   "source": [
    "`qc.cz(0,1)`\n",
    "\n",
    "This code fragment applies a $CZ$ gate, which is not a $CNOT$ gate.\n",
    "\n",
    "#### Let's take a closer look:"
   ]
  },
  {
   "cell_type": "code",
   "execution_count": 4,
   "id": "f90493bd-a044-4813-9692-933fb33723c1",
   "metadata": {},
   "outputs": [
    {
     "data": {
      "image/png": "[encoded data removed]",
      "text/plain": [
       "<Figure size 203.683x200.667 with 1 Axes>"
      ]
     },
     "execution_count": 4,
     "metadata": {},
     "output_type": "execute_result"
    }
   ],
   "source": [
    "from qiskit import QuantumCircuit\n",
    "\n",
    "qc = QuantumCircuit(2)\n",
    "qc.cz(0, 1)\n",
    "qc.draw(\"mpl\")"
   ]
  },
  {
   "cell_type": "markdown",
   "id": "a2611d56-3c8a-4839-b2a6-574f6188ff90",
   "metadata": {},
   "source": [
    "As you can see, by applying a $CZ$ gate, answer D adds a gate that is not a $CNOT$ gate."
   ]
  }
 ],
 "metadata": {
  "kernelspec": {
   "display_name": "Python 3 (ipykernel)",
   "language": "python",
   "name": "python3"
  },
  "language_info": {
   "codemirror_mode": {
    "name": "ipython",
    "version": 3
   },
   "file_extension": ".py",
   "mimetype": "text/x-python",
   "name": "python",
   "nbconvert_exporter": "python",
   "pygments_lexer": "ipython3",
   "version": "3.10.8"
  }
 },
 "nbformat": 4,
 "nbformat_minor": 5
}
