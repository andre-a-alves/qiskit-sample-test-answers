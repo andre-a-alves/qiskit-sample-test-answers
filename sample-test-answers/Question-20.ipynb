{
 "cells": [
  {
   "cell_type": "markdown",
   "id": "3af02558-9cfb-4490-a614-18fa834b2f04",
   "metadata": {},
   "source": [
    "# Question 20\n",
    "\n",
    "#### Given this code fragment, which output fits most closely with the measurement probability distribution?\n",
    "\n",
    "    qc = QuantumCircuit(2, 2)\n",
    "    qc.x(0)\n",
    "    qc.measure([0,1], [0,1])\n",
    "    simulator = Aer.get_backend('qasm_simulator')\n",
    "    result = execute(qc, simulator, shots=1000).result()\n",
    "    counts = result.get_counts(qc)\n",
    "    print(counts)"
   ]
  },
  {
   "cell_type": "markdown",
   "id": "11423c8f-1a34-43f6-bec7-4988fa7d991b",
   "metadata": {
    "tags": []
   },
   "source": [
    "## Answer Options\n",
    "\n",
    "**A.** `{'00': 1000}`  \n",
    "**B.** `{'01': 1000}`  \n",
    "**C.** `{'10': 1000}`  \n",
    "**D.** `{'11': 1000}`  "
   ]
  },
  {
   "cell_type": "markdown",
   "id": "b0100e8a-2b3d-4cd9-bb93-37de00af7ef6",
   "metadata": {
    "jp-MarkdownHeadingCollapsed": true,
    "tags": []
   },
   "source": [
    "## Question Explanation"
   ]
  },
  {
   "cell_type": "markdown",
   "id": "e6ab0828-f175-4515-9f7d-43355fed38df",
   "metadata": {},
   "source": [
    "This question asks us to visualize a circuit and determine the output of the measurement.\n",
    "\n",
    "The important concepts one needs in order to understand this question is initial state, the result of an $X$ gate, and endianness.\n",
    "Endianness has to do with whether the last digit represents the largest or the smallest number.\n",
    "Qiskit uses little-endianness, which means qubit 0 will be the right-most digit, and qubit 1 will be one digit to the left.\n",
    "In other words, $|01\\rangle$ tells us `qc[0]` is 1 and `qc[1]` is 0."
   ]
  },
  {
   "cell_type": "markdown",
   "id": "c9efafda-6d54-4abe-abd1-8f9ec59d4180",
   "metadata": {
    "jp-MarkdownHeadingCollapsed": true,
    "tags": []
   },
   "source": [
    "## References"
   ]
  },
  {
   "cell_type": "markdown",
   "id": "5ab7aaa0-4744-4eda-80c2-9273b4a04900",
   "metadata": {},
   "source": [
    "* [Qiskit Textbook - Single Qubit Gates](https://qiskit.org/textbook/ch-states/single-qubit-gates.html)\n",
    "* [Qiskit execute() function API](https://qiskit.org/documentation/apidoc/execute.html?highlight=execute#qiskit.execute_function.execute)"
   ]
  },
  {
   "cell_type": "markdown",
   "id": "5483029f-3803-4b75-a5e0-786ecfa15907",
   "metadata": {
    "jp-MarkdownHeadingCollapsed": true,
    "tags": []
   },
   "source": [
    "## Correct Answer"
   ]
  },
  {
   "cell_type": "markdown",
   "id": "336be34a-1cbf-4256-bf29-fceefd8ef050",
   "metadata": {},
   "source": [
    "**B.** `{'01': 1000}` "
   ]
  },
  {
   "cell_type": "markdown",
   "id": "e2363f9b-5b8f-49f3-a090-f144e42b232a",
   "metadata": {
    "jp-MarkdownHeadingCollapsed": true,
    "tags": []
   },
   "source": [
    "## Answer Explanation"
   ]
  },
  {
   "cell_type": "markdown",
   "id": "639939e7-90d6-4670-b338-d93b927d0820",
   "metadata": {},
   "source": [
    "We begin by looking at the circuit itself, which has an $X$ gate operating on the first qubit, and measurements from the first qubit to the first classical bit and the second qubit to the second classical bit."
   ]
  },
  {
   "cell_type": "code",
   "execution_count": 2,
   "id": "4e7587ff-bac2-4917-be91-b1ea0c492eb5",
   "metadata": {},
   "outputs": [
    {
     "data": {
      "image/png": "[encoded data removed]",
      "text/plain": [
       "<Figure size 206.852x204.68 with 1 Axes>"
      ]
     },
     "execution_count": 2,
     "metadata": {},
     "output_type": "execute_result"
    }
   ],
   "source": [
    "from qiskit import QuantumCircuit\n",
    "\n",
    "qc = QuantumCircuit(2,2)\n",
    "qc.x(0)\n",
    "qc.measure([0,1], [0,1])\n",
    "\n",
    "qc.draw('mpl')"
   ]
  },
  {
   "cell_type": "markdown",
   "id": "4d921e3c-d297-4ce8-a357-e3abd607ca95",
   "metadata": {},
   "source": [
    "Understanding the the circuit began in the $|00\\rangle$ state and the $X$ gate flipped the first qubit to 1, we know the result should be $|01\\rangle$."
   ]
  },
  {
   "cell_type": "code",
   "execution_count": 4,
   "id": "4ffd7e24-7868-4246-a758-906b37f9fead",
   "metadata": {},
   "outputs": [
    {
     "name": "stdout",
     "output_type": "stream",
     "text": [
      "{'01': 1000}\n"
     ]
    }
   ],
   "source": [
    "from qiskit import Aer, execute\n",
    "\n",
    "simulator = Aer.get_backend('qasm_simulator')\n",
    "result = execute(qc, simulator, shots=1000).result()\n",
    "counts = result.get_counts(qc)\n",
    "print(counts)"
   ]
  },
  {
   "cell_type": "markdown",
   "id": "01952a20-8398-4461-82b2-6e23f1fecea8",
   "metadata": {},
   "source": [
    "As you can see above, our analysis was sound, and the output is answer B."
   ]
  }
 ],
 "metadata": {
  "kernelspec": {
   "display_name": "Python 3 (ipykernel)",
   "language": "python",
   "name": "python3"
  },
  "language_info": {
   "codemirror_mode": {
    "name": "ipython",
    "version": 3
   },
   "file_extension": ".py",
   "mimetype": "text/x-python",
   "name": "python",
   "nbconvert_exporter": "python",
   "pygments_lexer": "ipython3",
   "version": "3.9.0"
  }
 },
 "nbformat": 4,
 "nbformat_minor": 5
}
