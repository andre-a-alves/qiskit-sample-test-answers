{
 "cells": [
  {
   "cell_type": "markdown",
   "id": "3af02558-9cfb-4490-a614-18fa834b2f04",
   "metadata": {},
   "source": [
    "# Question 14\n",
    "\n",
    "#### Which code snippet would execute a circuit given these parameters?\n",
    "\n",
    "1. Measure the circuit 1024 times\n",
    "2. Use the QASM simulator\n",
    "3. Use a coupling map that connects three qubits linearly\n",
    "\n",
    "\n",
    "    qc = QuantumCircuit(3)\n",
    "    # Insert code fragment here\n",
    "    result = job.result()"
   ]
  },
  {
   "cell_type": "markdown",
   "id": "11423c8f-1a34-43f6-bec7-4988fa7d991b",
   "metadata": {
    "tags": []
   },
   "source": [
    "## Answer Options\n",
    "\n",
    "**A.**\n",
    "\n",
    "    qasm_sim = Aer.get_backend('qasm_simulator')\n",
    "    couple_map = [[0, 1], [1, 2]]\n",
    "    job = execute(qc, backend=qasm_sim, shots=1024, coupling_map=couple_map)\n",
    "**B.**\n",
    "\n",
    "    qasm_sim = Aer.getBackend('ibmq_simulator')\n",
    "    couple_map = [[0, 1], [0, 2]]\n",
    "    job = execute(qc, loop=1024, coupling_map=couple_map)\n",
    "**C.**\n",
    "    \n",
    "    qasm_sim = Aer.get_backend('qasm_simulator')\n",
    "    couple_map = [[0, 1], [1, 2]]\n",
    "    job = execute(qc, backend=qasm_sim, repeat=1024, coupling_map=couple_map)\n",
    "**D.**\n",
    "\n",
    "    qasm_sim = Aer.get_backend('qasm_simulator')\n",
    "    couple_map = [[0, 1], [1, 2]]\n",
    "    job = execute(backend=qasm_sim, qc, shot=1024, coupling_map=couple_map)"
   ]
  },
  {
   "cell_type": "markdown",
   "id": "b0100e8a-2b3d-4cd9-bb93-37de00af7ef6",
   "metadata": {
    "tags": []
   },
   "source": [
    "## Question Explanation"
   ]
  },
  {
   "cell_type": "markdown",
   "id": "e6ab0828-f175-4515-9f7d-43355fed38df",
   "metadata": {},
   "source": [
    "There are a number of different backends on which we may execute our circuits.\n",
    "We get those backends from the `Aer.get_backend()` method, to which we pass the desired backend.\n",
    "In this case, we want a QASM simulator, which is passed as `'qasm_simulator'`.\n",
    "\n",
    "The circuit should also be measured 1024 times.\n",
    "Each time a circuit is run is called a *shot*, therefore, we want an execution that includes 1024 shots.\n",
    "\n",
    "While all four answers have the same coupling map, it is worth mentioning that coupling map gives the connectivity constraint of a backend for Qiskit's compiler."
   ]
  },
  {
   "cell_type": "markdown",
   "id": "c9efafda-6d54-4abe-abd1-8f9ec59d4180",
   "metadata": {
    "jp-MarkdownHeadingCollapsed": true,
    "tags": []
   },
   "source": [
    "## References"
   ]
  },
  {
   "cell_type": "markdown",
   "id": "5ab7aaa0-4744-4eda-80c2-9273b4a04900",
   "metadata": {},
   "source": [
    "* [Qiskit execute() Function API](https://qiskit.org/documentation/apidoc/execute.html?highlight=execute#qiskit.execute_function.execute)"
   ]
  },
  {
   "cell_type": "markdown",
   "id": "5483029f-3803-4b75-a5e0-786ecfa15907",
   "metadata": {
    "jp-MarkdownHeadingCollapsed": true,
    "tags": []
   },
   "source": [
    "## Correct Answer"
   ]
  },
  {
   "cell_type": "markdown",
   "id": "336be34a-1cbf-4256-bf29-fceefd8ef050",
   "metadata": {},
   "source": [
    "**A.**\n",
    "\n",
    "    qasm_sim = Aer.get_backend('qasm_simulator')\n",
    "    couple_map = [[0, 1], [1, 2]]\n",
    "    job = execute(qc, backend=qasm_sim, shots=1024, coupling_map=couple_map)"
   ]
  },
  {
   "cell_type": "markdown",
   "id": "e2363f9b-5b8f-49f3-a090-f144e42b232a",
   "metadata": {
    "tags": []
   },
   "source": [
    "## Answer Explanations"
   ]
  },
  {
   "cell_type": "markdown",
   "id": "3b22859d-45b6-460b-8394-69eaa490ce35",
   "metadata": {
    "jp-MarkdownHeadingCollapsed": true,
    "tags": []
   },
   "source": [
    "### Answer A"
   ]
  },
  {
   "cell_type": "markdown",
   "id": "9ef3e69e-81af-4949-9905-6a991dd084ef",
   "metadata": {
    "tags": []
   },
   "source": [
    "`qasm_sim = Aer.get_backend('qasm_simulator')`  \n",
    "`couple_map = [[0, 1], [1, 2]]`  \n",
    "`job = execute(qc, backend=qasm_sim, shots=1024, coupling_map=couple_map)`  \n",
    "\n",
    "This code fragment uses the QASM simulator, applies 1024 shots, and has a linear coupling map.\n",
    "\n",
    "#### Let's take a closer look:"
   ]
  },
  {
   "cell_type": "code",
   "execution_count": 25,
   "id": "dc1866c8-2a62-450b-97c1-79b3dc4f3a47",
   "metadata": {},
   "outputs": [
    {
     "name": "stdout",
     "output_type": "stream",
     "text": [
      "Backend: qasm_simulator\n",
      "Shots: 1024\n"
     ]
    }
   ],
   "source": [
    "from qiskit import QuantumCircuit, Aer, execute\n",
    "\n",
    "qc = QuantumCircuit(3)\n",
    "\n",
    "# Insert Answer's code snippet\n",
    "qasm_sim = Aer.get_backend('qasm_simulator')\n",
    "couple_map = [[0, 1], [1, 2]]\n",
    "job = execute(qc, backend=qasm_sim, shots=1024, coupling_map=couple_map)\n",
    "\n",
    "result = job.result()\n",
    "\n",
    "# Confirm our results met the criteria\n",
    "print(\"Backend: {}\".format(result.backend_name))\n",
    "print(\"Shots: {}\".format(result.results[0].shots))"
   ]
  },
  {
   "cell_type": "markdown",
   "id": "f4b19d3b-db71-4161-861f-ced5648b6630",
   "metadata": {},
   "source": [
    "As you can see, answer A matches the criteria given in the question."
   ]
  },
  {
   "cell_type": "markdown",
   "id": "00136eb6-dfab-436f-8b2e-e098a4d88b00",
   "metadata": {
    "jp-MarkdownHeadingCollapsed": true,
    "tags": []
   },
   "source": [
    "### Answer B"
   ]
  },
  {
   "cell_type": "markdown",
   "id": "f71750b0-e1d5-44bf-b330-b242e59c759c",
   "metadata": {
    "tags": []
   },
   "source": [
    "`qasm_sim = Aer.getBackend('ibmq_simulator')`  \n",
    "`couple_map = [[0, 1], [0, 2]]`  \n",
    "`job = execute(qc, loop=1024, coupling_map=couple_map)`\n",
    "\n",
    "This code fragment uses the wrong backend; it uses the IBMQ simulator, which is not an actual backend within Aer.\n",
    "This fragment will also throw an error, because it uses the `getBackend()` method, which does not exist.\n",
    "Finally, `loop=` is not the correct parameter to pass as for the number of shots to execute.\n",
    "\n",
    "#### Let's take a closer look:"
   ]
  },
  {
   "cell_type": "code",
   "execution_count": 29,
   "id": "9fbe17ec-f8f3-4db3-a00a-7ca7203ae4d5",
   "metadata": {},
   "outputs": [
    {
     "ename": "AttributeError",
     "evalue": "'AerProvider' object has no attribute 'getBackend'",
     "output_type": "error",
     "traceback": [
      "\u001b[1;31m---------------------------------------------------------------------------\u001b[0m",
      "\u001b[1;31mAttributeError\u001b[0m                            Traceback (most recent call last)",
      "\u001b[1;32m~\\AppData\\Local\\Temp/ipykernel_12124/2281570438.py\u001b[0m in \u001b[0;36m<module>\u001b[1;34m\u001b[0m\n\u001b[0;32m      4\u001b[0m \u001b[1;33m\u001b[0m\u001b[0m\n\u001b[0;32m      5\u001b[0m \u001b[1;31m# Insert Answer's code snippet\u001b[0m\u001b[1;33m\u001b[0m\u001b[1;33m\u001b[0m\u001b[1;33m\u001b[0m\u001b[0m\n\u001b[1;32m----> 6\u001b[1;33m \u001b[0mqasm_sim\u001b[0m \u001b[1;33m=\u001b[0m \u001b[0mAer\u001b[0m\u001b[1;33m.\u001b[0m\u001b[0mgetBackend\u001b[0m\u001b[1;33m(\u001b[0m\u001b[1;34m'ibmq_simulator'\u001b[0m\u001b[1;33m)\u001b[0m\u001b[1;33m\u001b[0m\u001b[1;33m\u001b[0m\u001b[0m\n\u001b[0m\u001b[0;32m      7\u001b[0m \u001b[0mcouple_map\u001b[0m \u001b[1;33m=\u001b[0m \u001b[1;33m[\u001b[0m\u001b[1;33m[\u001b[0m\u001b[1;36m0\u001b[0m\u001b[1;33m,\u001b[0m \u001b[1;36m1\u001b[0m\u001b[1;33m]\u001b[0m\u001b[1;33m,\u001b[0m \u001b[1;33m[\u001b[0m\u001b[1;36m0\u001b[0m\u001b[1;33m,\u001b[0m \u001b[1;36m2\u001b[0m\u001b[1;33m]\u001b[0m\u001b[1;33m]\u001b[0m\u001b[1;33m\u001b[0m\u001b[1;33m\u001b[0m\u001b[0m\n\u001b[0;32m      8\u001b[0m \u001b[0mjob\u001b[0m \u001b[1;33m=\u001b[0m \u001b[0mexecute\u001b[0m\u001b[1;33m(\u001b[0m\u001b[0mqc\u001b[0m\u001b[1;33m,\u001b[0m \u001b[0mloop\u001b[0m\u001b[1;33m=\u001b[0m\u001b[1;36m1024\u001b[0m\u001b[1;33m,\u001b[0m \u001b[0mcoupling_map\u001b[0m\u001b[1;33m=\u001b[0m\u001b[0mcouple_map\u001b[0m\u001b[1;33m)\u001b[0m\u001b[1;33m\u001b[0m\u001b[1;33m\u001b[0m\u001b[0m\n",
      "\u001b[1;32m~\\PycharmProjects\\qiskit-sample-test-answers\\.venv\\lib\\site-packages\\qiskit\\__init__.py\u001b[0m in \u001b[0;36m__getattr__\u001b[1;34m(self, attr)\u001b[0m\n\u001b[0;32m     93\u001b[0m                     \u001b[1;34m\"qiskit-aer\"\u001b[0m\u001b[1;33m,\u001b[0m \u001b[1;34m\"Aer provider\"\u001b[0m\u001b[1;33m,\u001b[0m \u001b[1;34m\"pip install qiskit-aer\"\u001b[0m\u001b[1;33m\u001b[0m\u001b[1;33m\u001b[0m\u001b[0m\n\u001b[0;32m     94\u001b[0m                 ) from ex\n\u001b[1;32m---> 95\u001b[1;33m         \u001b[1;32mreturn\u001b[0m \u001b[0mgetattr\u001b[0m\u001b[1;33m(\u001b[0m\u001b[0mself\u001b[0m\u001b[1;33m.\u001b[0m\u001b[0maer\u001b[0m\u001b[1;33m,\u001b[0m \u001b[0mattr\u001b[0m\u001b[1;33m)\u001b[0m\u001b[1;33m\u001b[0m\u001b[1;33m\u001b[0m\u001b[0m\n\u001b[0m\u001b[0;32m     96\u001b[0m \u001b[1;33m\u001b[0m\u001b[0m\n\u001b[0;32m     97\u001b[0m \u001b[1;33m\u001b[0m\u001b[0m\n",
      "\u001b[1;31mAttributeError\u001b[0m: 'AerProvider' object has no attribute 'getBackend'"
     ]
    }
   ],
   "source": [
    "from qiskit import QuantumCircuit, Aer, execute\n",
    "\n",
    "qc = QuantumCircuit(3)\n",
    "\n",
    "# Insert Answer's code snippet\n",
    "qasm_sim = Aer.getBackend('ibmq_simulator')\n",
    "couple_map = [[0, 1], [0, 2]]\n",
    "job = execute(qc, loop=1024, coupling_map=couple_map)\n",
    "\n",
    "result = job.result()\n",
    "\n",
    "# Confirm our results met the criteria\n",
    "print(\"Backend: {}\".format(result.backend_name))\n",
    "print(\"Shots: {}\".format(result.results[0].shots))"
   ]
  },
  {
   "cell_type": "markdown",
   "id": "da3bc480-33fb-4345-b821-39747d047ed6",
   "metadata": {},
   "source": [
    "As you can see, answer B throws an error."
   ]
  },
  {
   "cell_type": "code",
   "execution_count": 36,
   "id": "9dbe0495-5fc5-4081-94f7-0f858dd6038c",
   "metadata": {},
   "outputs": [
    {
     "name": "stdout",
     "output_type": "stream",
     "text": [
      "aer_simulator\n",
      "aer_simulator_statevector\n",
      "aer_simulator_density_matrix\n",
      "aer_simulator_stabilizer\n",
      "aer_simulator_matrix_product_state\n",
      "aer_simulator_extended_stabilizer\n",
      "aer_simulator_unitary\n",
      "aer_simulator_superop\n",
      "qasm_simulator\n",
      "statevector_simulator\n",
      "unitary_simulator\n",
      "pulse_simulator\n"
     ]
    }
   ],
   "source": [
    "for backend in Aer.backends():\n",
    "    print(backend)"
   ]
  },
  {
   "cell_type": "markdown",
   "id": "747a4c13-ab55-439f-a319-4f3504321598",
   "metadata": {},
   "source": [
    "Furthermore, you can see there is no IBMQ backend contained within Aer."
   ]
  },
  {
   "cell_type": "markdown",
   "id": "e894ef46-6324-4b34-bd9c-3fa8cd150391",
   "metadata": {
    "jp-MarkdownHeadingCollapsed": true,
    "tags": []
   },
   "source": [
    "### Answer C"
   ]
  },
  {
   "cell_type": "markdown",
   "id": "01952036-25af-4f21-84e3-7bf8628d4cb8",
   "metadata": {},
   "source": [
    "`qasm_sim = Aer.get_backend('qasm_simulator')`  \n",
    "`couple_map = [[0, 1], [1, 2]]`  \n",
    "`job = execute(qc, backend=qasm_sim, repeat=1024, coupling_map=couple_map)`  \n",
    "\n",
    "This code fragment uses the QASM simulator.\n",
    "However, there is no `repeat=` parameter for the `execute()` function.\n",
    "\n",
    "Technically, this fragment will actually satisfy the criteria named in the question, but it is not the best answer.\n",
    "\n",
    "#### Let's take a closer look:"
   ]
  },
  {
   "cell_type": "code",
   "execution_count": 30,
   "id": "20ee2824-6568-4968-bbce-910737713986",
   "metadata": {},
   "outputs": [
    {
     "name": "stdout",
     "output_type": "stream",
     "text": [
      "Backend: qasm_simulator\n",
      "Shots: 1024\n"
     ]
    }
   ],
   "source": [
    "from qiskit import QuantumCircuit, Aer, execute\n",
    "\n",
    "qc = QuantumCircuit(3)\n",
    "\n",
    "# Insert Answer's code snippet\n",
    "qasm_sim = Aer.get_backend('qasm_simulator')\n",
    "couple_map = [[0, 1], [1, 2]]\n",
    "job = execute(qc, backend=qasm_sim, repeat=1024, coupling_map=couple_map)\n",
    "\n",
    "result = job.result()\n",
    "\n",
    "# Confirm our results met the criteria\n",
    "print(\"Backend: {}\".format(result.backend_name))\n",
    "print(\"Shots: {}\".format(result.results[0].shots))"
   ]
  },
  {
   "cell_type": "markdown",
   "id": "41670744-4354-4f34-8b46-f71c27994ab4",
   "metadata": {},
   "source": [
    "As you can see, answer C does meet the given criteria.\n",
    "However, since it does so by accident (because `repeat=` should be `shots=`), it is wrong."
   ]
  },
  {
   "cell_type": "markdown",
   "id": "15afd510-0fb4-43fa-8caf-7f3ce5e1302e",
   "metadata": {
    "jp-MarkdownHeadingCollapsed": true,
    "tags": []
   },
   "source": [
    "### Answer D"
   ]
  },
  {
   "cell_type": "markdown",
   "id": "162e7c30-818a-4dd8-8c4e-4ff6a47dc3d8",
   "metadata": {},
   "source": [
    "`qasm_sim = Aer.get_backend('qasm_simulator')`  \n",
    "`couple_map = [[0, 1], [1, 2]]`  \n",
    "`job = execute(backend=qasm_sim, qc, shot=1024, coupling_map=couple_map)`  \n",
    "\n",
    "This code fragment uses the QASM simulator.\n",
    "However, there is no `shot=` parameter for the `execute()` function; the parameter should be called `shots=`.\n",
    "Also, this will throw an error, because the *positional* argument `qc`, which represents the circuit to be executed, should be the first parameter passed to the `execute` function before any `keyword` arguments are passed.\n",
    "\n",
    "#### Let's take a closer look:"
   ]
  },
  {
   "cell_type": "code",
   "execution_count": 34,
   "id": "f90493bd-a044-4813-9692-933fb33723c1",
   "metadata": {},
   "outputs": [
    {
     "ename": "SyntaxError",
     "evalue": "positional argument follows keyword argument (Temp/ipykernel_12124/3594321488.py, line 8)",
     "output_type": "error",
     "traceback": [
      "\u001b[1;36m  File \u001b[1;32m\"C:\\Users\\andre\\AppData\\Local\\Temp/ipykernel_12124/3594321488.py\"\u001b[1;36m, line \u001b[1;32m8\u001b[0m\n\u001b[1;33m    job = execute(backend=qasm_sim, qc, shot=1024, coupling_map=couple_map)\u001b[0m\n\u001b[1;37m                                                                          ^\u001b[0m\n\u001b[1;31mSyntaxError\u001b[0m\u001b[1;31m:\u001b[0m positional argument follows keyword argument\n"
     ]
    }
   ],
   "source": [
    "from qiskit import QuantumCircuit, Aer, execute\n",
    "\n",
    "qc = QuantumCircuit(3)\n",
    "\n",
    "# Insert Answer's code snippet\n",
    "qasm_sim = Aer.get_backend('qasm_simulator')\n",
    "couple_map = [[0, 1], [1, 2]]\n",
    "job = execute(backend=qasm_sim, qc, shot=1024, coupling_map=couple_map)\n",
    "\n",
    "result = job.result()\n",
    "\n",
    "# Confirm our results met the criteria\n",
    "print(\"Backend: {}\".format(result.backend_name))\n",
    "print(\"Shots: {}\".format(result.results[0].shots))"
   ]
  },
  {
   "cell_type": "markdown",
   "id": "a2611d56-3c8a-4839-b2a6-574f6188ff90",
   "metadata": {},
   "source": [
    "As you can see, this code fragment throws and error."
   ]
  }
 ],
 "metadata": {
  "kernelspec": {
   "display_name": "Python 3 (ipykernel)",
   "language": "python",
   "name": "python3"
  },
  "language_info": {
   "codemirror_mode": {
    "name": "ipython",
    "version": 3
   },
   "file_extension": ".py",
   "mimetype": "text/x-python",
   "name": "python",
   "nbconvert_exporter": "python",
   "pygments_lexer": "ipython3",
   "version": "3.9.0"
  }
 },
 "nbformat": 4,
 "nbformat_minor": 5
}
