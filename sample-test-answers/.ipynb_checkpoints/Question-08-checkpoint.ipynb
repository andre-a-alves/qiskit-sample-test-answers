{
 "cells": [
  {
   "cell_type": "markdown",
   "id": "3af02558-9cfb-4490-a614-18fa834b2f04",
   "metadata": {},
   "source": [
    "# Question 8\n",
    "\n",
    "#### Which two code fragments, when inserted into the code below, will produce the statevector shown in the output?\n",
    "\n",
    "    from math import sqrt\n",
    "    qc = QuantumCircuit(2)\n",
    "    # Insert fragment here\n",
    "    simulator = Aer.get_backend('statevector_simulator')\n",
    "    result = execute(qc, simulator).result()\n",
    "    statevector = result.get_statevector()\n",
    "    print(statevector)\n",
    "\n",
    "**Output:**  \n",
    "    `[0.707+0.j 0.+0.j 0.+0.j 0.707+0.j]`"
   ]
  },
  {
   "cell_type": "markdown",
   "id": "11423c8f-1a34-43f6-bec7-4988fa7d991b",
   "metadata": {
    "tags": []
   },
   "source": [
    "## Answer Options\n",
    "\n",
    "**A.**  \n",
    "\n",
    "    v = [1/sqrt(2), 0, 0, 1/sqrt(2)]  \n",
    "    qc.initialize(v, [0,1])      \n",
    "**B.**  \n",
    "\n",
    "    qc.h(0)  \n",
    "    qc.cx(0,1)  \n",
    "**C.**  \n",
    "\n",
    "    v1, v2 = [1,0], [0,1]  \n",
    "    qc.initialize(v1,0)  \n",
    "    qc.initialize(v2,1)  \n",
    "**D.**  \n",
    "\n",
    "    qc.cx(0,1)  \n",
    "    qc.measure_all()  \n",
    "**E.**  \n",
    "\n",
    "    qc.h(0)  \n",
    "    qc.h(1)  \n",
    "    qc.measure_all()  "
   ]
  },
  {
   "cell_type": "markdown",
   "id": "b0100e8a-2b3d-4cd9-bb93-37de00af7ef6",
   "metadata": {
    "jp-MarkdownHeadingCollapsed": true,
    "tags": []
   },
   "source": [
    "## Question Explanation"
   ]
  },
  {
   "cell_type": "markdown",
   "id": "04dedaf1-ea29-4c9b-b376-8b071131b870",
   "metadata": {},
   "source": [
    "It is important to understand Qiskit will output a statevector representation of a two-qubit circuit $\\left[\\frac{1}{\\sqrt{2}} \\quad 0 \\quad 0 \\quad \\frac{1}{\\sqrt{2}}\\right]$ is in the following order: 00, 01, 10, 11.\n",
    "Therefore, the statevector shown in the output is $\\frac{1}{\\sqrt{2}}\\left(|00\\rangle+|11\\rangle\\right)$.\n",
    "\n",
    "It is also important to understand `QuantumCurcuit.initialize()` will act upon the qubit passed to it as a parameter.\n",
    "`initialize()` takes one parameter that is a specific statevector and another that gives the qubit to be placed into that state.\n",
    "`initialize()` will first return that qubit to a $|0\\rangle$ state and then place it into the declared state.\n",
    "\n",
    "Finally, it is important to remember that once a measurement is taken, the quantum state has a defined value.\n",
    "Therefore, after measurement, the statevector will always have a probability of 1 for a specific state."
   ]
  },
  {
   "cell_type": "markdown",
   "id": "c9efafda-6d54-4abe-abd1-8f9ec59d4180",
   "metadata": {
    "jp-MarkdownHeadingCollapsed": true,
    "tags": []
   },
   "source": [
    "## References"
   ]
  },
  {
   "cell_type": "markdown",
   "id": "fc381ab7-7bd0-426f-9b14-fbc73886973e",
   "metadata": {},
   "source": [
    "* [Qiskit Textbook - Representing Qubit States](https://qiskit.org/textbook/ch-states/representing-qubit-states.html)\n",
    "* [Qiskit QuantumCircuit.initialize() API](https://qiskit.org/documentation/stubs/qiskit.circuit.QuantumCircuit.initialize.html#qiskit.circuit.QuantumCircuit.initialize)"
   ]
  },
  {
   "cell_type": "markdown",
   "id": "5483029f-3803-4b75-a5e0-786ecfa15907",
   "metadata": {
    "jp-MarkdownHeadingCollapsed": true,
    "tags": []
   },
   "source": [
    "## Correct Answer"
   ]
  },
  {
   "cell_type": "markdown",
   "id": "336be34a-1cbf-4256-bf29-fceefd8ef050",
   "metadata": {},
   "source": [
    "**A.**  \n",
    "\n",
    "    v = [1/sqrt(2), 0, 0, 1/sqrt(2)]  \n",
    "    qc.initialize(v, [0,1])      \n",
    "**B.**  \n",
    "\n",
    "    qc.h(0)  \n",
    "    qc.cx(0,1)  "
   ]
  },
  {
   "cell_type": "markdown",
   "id": "e2363f9b-5b8f-49f3-a090-f144e42b232a",
   "metadata": {
    "jp-MarkdownHeadingCollapsed": true,
    "tags": []
   },
   "source": [
    "## Answer Explanations"
   ]
  },
  {
   "cell_type": "markdown",
   "id": "3b22859d-45b6-460b-8394-69eaa490ce35",
   "metadata": {
    "jp-MarkdownHeadingCollapsed": true,
    "tags": []
   },
   "source": [
    "### Answer A"
   ]
  },
  {
   "cell_type": "markdown",
   "id": "9ef3e69e-81af-4949-9905-6a991dd084ef",
   "metadata": {},
   "source": [
    "    v = [1/sqrt(2), 0, 0, 1/sqrt(2)]  \n",
    "    qc.initialize(v, [0,1]) \n",
    "\n",
    "This code fragment will initialize the two qubits in the QuantumCircuit directly into the desired statevector. \n",
    "\n",
    "#### Let's take a closer look:"
   ]
  },
  {
   "cell_type": "code",
   "execution_count": 1,
   "id": "dc1866c8-2a62-450b-97c1-79b3dc4f3a47",
   "metadata": {},
   "outputs": [
    {
     "name": "stdout",
     "output_type": "stream",
     "text": [
      "Statevector([0.70710678+0.j, 0.        +0.j, 0.        +0.j,\n",
      "             0.70710678+0.j],\n",
      "            dims=(2, 2))\n"
     ]
    }
   ],
   "source": [
    "from qiskit import QuantumCircuit, Aer, execute\n",
    "from math import sqrt\n",
    "qc = QuantumCircuit(2)\n",
    "\n",
    "# Answer Fragment\n",
    "v = [1/sqrt(2), 0, 0, 1/sqrt(2)]  \n",
    "qc.initialize(v, [0,1]) \n",
    "\n",
    "simulator = Aer.get_backend('statevector_simulator')\n",
    "result = execute(qc, simulator).result()\n",
    "statevector = result.get_statevector()\n",
    "print(statevector)"
   ]
  },
  {
   "cell_type": "markdown",
   "id": "f4b19d3b-db71-4161-861f-ced5648b6630",
   "metadata": {},
   "source": [
    "As you can see, answer A produces the desired statevector."
   ]
  },
  {
   "cell_type": "markdown",
   "id": "00136eb6-dfab-436f-8b2e-e098a4d88b00",
   "metadata": {
    "tags": []
   },
   "source": [
    "### Answer B"
   ]
  },
  {
   "cell_type": "markdown",
   "id": "f71750b0-e1d5-44bf-b330-b242e59c759c",
   "metadata": {
    "jp-MarkdownHeadingCollapsed": true,
    "tags": []
   },
   "source": [
    "    qc.h(0)  \n",
    "    qc.cx(0,1)  \n",
    "\n",
    "This well-known circuit pattern creates the Bell state of $\\frac{1}{\\sqrt{2}}\\left(|00\\rangle+|11\\rangle\\right)$.\n",
    "\n",
    "#### Let's take a closer look:"
   ]
  },
  {
   "cell_type": "code",
   "execution_count": 2,
   "id": "9fbe17ec-f8f3-4db3-a00a-7ca7203ae4d5",
   "metadata": {},
   "outputs": [
    {
     "name": "stdout",
     "output_type": "stream",
     "text": [
      "Statevector([0.70710678+0.j, 0.        +0.j, 0.        +0.j,\n",
      "             0.70710678+0.j],\n",
      "            dims=(2, 2))\n"
     ]
    }
   ],
   "source": [
    "from qiskit import QuantumCircuit, Aer, execute\n",
    "from math import sqrt\n",
    "qc = QuantumCircuit(2)\n",
    "\n",
    "# Answer Fragment\n",
    "qc.h(0)  \n",
    "qc.cx(0,1) \n",
    "\n",
    "simulator = Aer.get_backend('statevector_simulator')\n",
    "result = execute(qc, simulator).result()\n",
    "statevector = result.get_statevector()\n",
    "print(statevector)"
   ]
  },
  {
   "cell_type": "markdown",
   "id": "da3bc480-33fb-4345-b821-39747d047ed6",
   "metadata": {},
   "source": [
    "As you can see, answer B produces the desired statevector."
   ]
  },
  {
   "cell_type": "markdown",
   "id": "e894ef46-6324-4b34-bd9c-3fa8cd150391",
   "metadata": {
    "jp-MarkdownHeadingCollapsed": true,
    "tags": []
   },
   "source": [
    "### Answer C"
   ]
  },
  {
   "cell_type": "markdown",
   "id": "01952036-25af-4f21-84e3-7bf8628d4cb8",
   "metadata": {},
   "source": [
    "    v1, v2 = [1,0], [0,1]  \n",
    "    qc.initialize(v1,0)  \n",
    "    qc.initialize(v2,1)\n",
    "\n",
    "This code fragment places the circuit into the constant state of $|10\\rangle$ by initiailizeing the first qubit as 0 and the second qubit as 1.\n",
    "\n",
    "#### Let's take a closer look:"
   ]
  },
  {
   "cell_type": "code",
   "execution_count": 3,
   "id": "20ee2824-6568-4968-bbce-910737713986",
   "metadata": {},
   "outputs": [
    {
     "name": "stdout",
     "output_type": "stream",
     "text": [
      "Statevector([0.+0.j, 0.+0.j, 1.+0.j, 0.+0.j],\n",
      "            dims=(2, 2))\n"
     ]
    }
   ],
   "source": [
    "from qiskit import QuantumCircuit, Aer, execute\n",
    "from math import sqrt\n",
    "qc = QuantumCircuit(2)\n",
    "\n",
    "# Answer Fragment\n",
    "v1, v2 = [1,0], [0,1]  \n",
    "qc.initialize(v1,0)  \n",
    "qc.initialize(v2,1)\n",
    "\n",
    "simulator = Aer.get_backend('statevector_simulator')\n",
    "result = execute(qc, simulator).result()\n",
    "statevector = result.get_statevector()\n",
    "print(statevector)"
   ]
  },
  {
   "cell_type": "markdown",
   "id": "41670744-4354-4f34-8b46-f71c27994ab4",
   "metadata": {},
   "source": [
    "As you can see, the output statevector is $\\left[ 0 \\quad 0 \\quad 1 \\quad 0 \\right]$."
   ]
  },
  {
   "cell_type": "markdown",
   "id": "15afd510-0fb4-43fa-8caf-7f3ce5e1302e",
   "metadata": {
    "jp-MarkdownHeadingCollapsed": true,
    "tags": []
   },
   "source": [
    "### Answer D"
   ]
  },
  {
   "cell_type": "markdown",
   "id": "162e7c30-818a-4dd8-8c4e-4ff6a47dc3d8",
   "metadata": {},
   "source": [
    "    qc.cx(0,1)  \n",
    "    qc.measure_all()  \n",
    "\n",
    "The initial $CX$ gate does not do anything, since the control bit remains in the 0 state.\n",
    "Therefore, this code fragment remains in the $|00\\rangle$ state.\n",
    "\n",
    "Without considering the $CX$ gate, the `measure_all()` method collapses the statevector into a measured state with a probability of 1.\n",
    "This does nothing to this specific circuit, because it already had a probability of 1.\n",
    "\n",
    "#### Let's take a closer look:"
   ]
  },
  {
   "cell_type": "code",
   "execution_count": 4,
   "id": "f90493bd-a044-4813-9692-933fb33723c1",
   "metadata": {},
   "outputs": [
    {
     "name": "stdout",
     "output_type": "stream",
     "text": [
      "Statevector([1.+0.j, 0.+0.j, 0.+0.j, 0.+0.j],\n",
      "            dims=(2, 2))\n"
     ]
    }
   ],
   "source": [
    "from qiskit import QuantumCircuit, Aer, execute\n",
    "from math import sqrt\n",
    "qc = QuantumCircuit(2)\n",
    "\n",
    "# Answer Fragment\n",
    "qc.cx(0,1)\n",
    "qc.measure_all()\n",
    "\n",
    "simulator = Aer.get_backend('statevector_simulator')\n",
    "result = execute(qc, simulator).result()\n",
    "statevector = result.get_statevector()\n",
    "print(statevector)"
   ]
  },
  {
   "cell_type": "markdown",
   "id": "a2611d56-3c8a-4839-b2a6-574f6188ff90",
   "metadata": {},
   "source": [
    "As you can see, the output statevector is $\\left[ 1 \\quad 0 \\quad 0 \\quad 0 \\right]$."
   ]
  },
  {
   "cell_type": "markdown",
   "id": "baaadc95-1d7e-48d1-ae7c-48a65acb8e14",
   "metadata": {
    "jp-MarkdownHeadingCollapsed": true,
    "tags": []
   },
   "source": [
    "### Answer E"
   ]
  },
  {
   "cell_type": "markdown",
   "id": "06e141d6-8e0b-4e22-81d8-8058da235497",
   "metadata": {},
   "source": [
    "    qc.h(0)  \n",
    "    qc.h(1)  \n",
    "    qc.measure_all() \n",
    "\n",
    "This circuit is initially put into a state where every possibility is equally probably, or $\\frac{1}{2} \\left(|00\\rangle + |01\\rangle + |10\\rangle + |11\\rangle \\right)$ which has a statevector of $\\left[ \\frac{1}{2} \\quad \\frac{1}{2} \\quad \\frac{1}{2} \\quad \\frac{1}{2} \\right]$.\n",
    "However, measuring the qubits collapses the state, so the statevector would always be `1.+0.j` for one possible and `0.+0.j` for all the others.\n",
    "\n",
    "#### Let's take a closer look:"
   ]
  },
  {
   "cell_type": "code",
   "execution_count": 5,
   "id": "e5945522-36f9-4215-872f-34cd7f9b5478",
   "metadata": {},
   "outputs": [
    {
     "name": "stdout",
     "output_type": "stream",
     "text": [
      "Statevector([0.+0.j, 1.+0.j, 0.+0.j, 0.+0.j],\n",
      "            dims=(2, 2))\n"
     ]
    }
   ],
   "source": [
    "from qiskit import QuantumCircuit, Aer, execute\n",
    "from math import sqrt\n",
    "qc = QuantumCircuit(2)\n",
    "\n",
    "# Answer Fragment\n",
    "qc.h(0)  \n",
    "qc.h(1)  \n",
    "qc.measure_all() \n",
    "\n",
    "simulator = Aer.get_backend('statevector_simulator')\n",
    "result = execute(qc, simulator).result()\n",
    "statevector = result.get_statevector()\n",
    "print(statevector)"
   ]
  },
  {
   "cell_type": "markdown",
   "id": "acc11438-dc6a-4f60-aa53-df645272b48d",
   "metadata": {},
   "source": [
    "As you can see, answer E results in a collapsed state where the statevector is 1 for one value and 0 for all others."
   ]
  }
 ],
 "metadata": {
  "kernelspec": {
   "display_name": "Python 3 (ipykernel)",
   "language": "python",
   "name": "python3"
  },
  "language_info": {
   "codemirror_mode": {
    "name": "ipython",
    "version": 3
   },
   "file_extension": ".py",
   "mimetype": "text/x-python",
   "name": "python",
   "nbconvert_exporter": "python",
   "pygments_lexer": "ipython3",
   "version": "3.10.8"
  }
 },
 "nbformat": 4,
 "nbformat_minor": 5
}
