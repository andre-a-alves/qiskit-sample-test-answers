{
 "cells": [
  {
   "cell_type": "markdown",
   "id": "3af02558-9cfb-4490-a614-18fa834b2f04",
   "metadata": {},
   "source": [
    "# Question 5\n",
    "\n",
    "#### Which code fragment will produce a maximally entangled, or Bell, state?"
   ]
  },
  {
   "cell_type": "markdown",
   "id": "11423c8f-1a34-43f6-bec7-4988fa7d991b",
   "metadata": {
    "tags": []
   },
   "source": [
    "## Answer Options\n",
    "\n",
    "**A.**  \n",
    "    bell = QuantumCircuit(2)  \n",
    "    bell.h(0)  \n",
    "    bell.x(1)  \n",
    "    bell.cx(0, 1)  \n",
    "**B.**  \n",
    "    bell = QuantumCircuit(2)  \n",
    "    bell.cx(0, 1)  \n",
    "    bell.h(0)  \n",
    "    bell.x(1)  \n",
    "**C.**  \n",
    "    bell = QuantumCircuit (2)  \n",
    "    bell.h(0)  \n",
    "    bell.x(1)  \n",
    "    bell.cz(0, 1)  \n",
    "**D.**  \n",
    "    bell = QuantumCircuit(2)  \n",
    "    bell.h(0)  \n",
    "    bell.h(0)"
   ]
  },
  {
   "cell_type": "markdown",
   "id": "b0100e8a-2b3d-4cd9-bb93-37de00af7ef6",
   "metadata": {
    "jp-MarkdownHeadingCollapsed": true,
    "tags": []
   },
   "source": [
    "## Question Explanation"
   ]
  },
  {
   "cell_type": "markdown",
   "id": "e6ab0828-f175-4515-9f7d-43355fed38df",
   "metadata": {},
   "source": [
    "A Bell state is one in which two qubits are entangled and there is a 50% probability of each qubit having each value.\n",
    "Examples of Bell states are a 50% chance for either |00> or |11> or a 50% chance of |01> or |10>.\n",
    "\n",
    "In Dirac notation, the four Bell states are:\n",
    "* $|\\Phi^{+}\\rangle = \\frac{1}{\\sqrt{2}} \\left( |00\\rangle + |11\\rangle \\right)$\n",
    "* $|\\Phi^{-}\\rangle = \\frac{1}{\\sqrt{2}} \\left( |00\\rangle - |11\\rangle \\right)$\n",
    "* $|\\Psi^{+}\\rangle = \\frac{1}{\\sqrt{2}} \\left( |01\\rangle + |10\\rangle \\right)$\n",
    "* $|\\Psi^{-}\\rangle = \\frac{1}{\\sqrt{2}} \\left( |01\\rangle - |10\\rangle \\right)$"
   ]
  },
  {
   "cell_type": "markdown",
   "id": "c9efafda-6d54-4abe-abd1-8f9ec59d4180",
   "metadata": {
    "jp-MarkdownHeadingCollapsed": true,
    "tags": []
   },
   "source": [
    "## References"
   ]
  },
  {
   "cell_type": "markdown",
   "id": "5ab7aaa0-4744-4eda-80c2-9273b4a04900",
   "metadata": {},
   "source": [
    "* [Qiskit Textbook - Entangled States](https://qiskit.org/textbook/ch-gates/multiple-qubits-entangled-states.html#3.2-Entangled-States-)   \n",
    "* [MITRE - Intro to Quantum Software Development - Superdense Coding](https://stem.mitre.org/quantum/quantum-algorithms/superdense-coding.html#undoing-the-bell-states)   "
   ]
  },
  {
   "cell_type": "markdown",
   "id": "5483029f-3803-4b75-a5e0-786ecfa15907",
   "metadata": {
    "jp-MarkdownHeadingCollapsed": true,
    "tags": []
   },
   "source": [
    "## Correct Answer"
   ]
  },
  {
   "cell_type": "markdown",
   "id": "336be34a-1cbf-4256-bf29-fceefd8ef050",
   "metadata": {},
   "source": [
    "**A.**  \n",
    "    bell = QuantumCircuit(2)  \n",
    "    bell.h(0)  \n",
    "    bell.x(1)  \n",
    "    bell.cx(0, 1)  "
   ]
  },
  {
   "cell_type": "markdown",
   "id": "e2363f9b-5b8f-49f3-a090-f144e42b232a",
   "metadata": {
    "jp-MarkdownHeadingCollapsed": true,
    "tags": []
   },
   "source": [
    "## Answer Explanations"
   ]
  },
  {
   "cell_type": "markdown",
   "id": "3b22859d-45b6-460b-8394-69eaa490ce35",
   "metadata": {
    "tags": []
   },
   "source": [
    "### Answer A"
   ]
  },
  {
   "cell_type": "markdown",
   "id": "9ef3e69e-81af-4949-9905-6a991dd084ef",
   "metadata": {},
   "source": [
    "    bell = QuantumCircuit(2)  \n",
    "    bell.h(0)  \n",
    "    bell.x(1)  \n",
    "    bell.cx(0, 1)  \n",
    "\n",
    "The combination of an $H$ gate on the first qubit followed by a $CX$ gate between the first and second qubit creates the Bell state.\n",
    "The $X$ gate before the $CX$ gate just makes the two qubits have opposite values: 50% chance for $|01\\rangle$ and 50% chance for $|10\\rangle$.\n",
    "\n",
    "#### Let's take a closer look:"
   ]
  },
  {
   "cell_type": "code",
   "execution_count": 44,
   "id": "dc1866c8-2a62-450b-97c1-79b3dc4f3a47",
   "metadata": {},
   "outputs": [
    {
     "data": {
      "image/png": "[encoded data removed]",
      "text/plain": [
       "<Figure size 267.052x144.48 with 1 Axes>"
      ]
     },
     "execution_count": 44,
     "metadata": {},
     "output_type": "execute_result"
    }
   ],
   "source": [
    "from qiskit import QuantumCircuit, Aer, assemble\n",
    "from qiskit.visualization import plot_histogram, array_to_latex\n",
    "\n",
    "# Code fragment being explored\n",
    "bell = QuantumCircuit(2)  \n",
    "bell.h(0)  \n",
    "bell.x(1)  \n",
    "bell.cx(0, 1)\n",
    "\n",
    "# Save the statevector for later\n",
    "bell.save_statevector()\n",
    "\n",
    "# Draw the code fragment\n",
    "bell.draw('mpl')"
   ]
  },
  {
   "cell_type": "markdown",
   "id": "4e811a5a-57fe-481b-a982-7a5adddd4a4a",
   "metadata": {},
   "source": [
    "Now that we see the circuit, we can examine the resulting statevector and see this is a Bell state.\n",
    "Remember that the statevector will be represented as $\\left[ |00\\rangle |01\\rangle |10\\rangle |11\\rangle \\right]$."
   ]
  },
  {
   "cell_type": "code",
   "execution_count": 46,
   "id": "4225eda6-7953-4f6b-ada3-7e893422def3",
   "metadata": {},
   "outputs": [
    {
     "data": {
      "text/latex": [
       "$$\n",
       "\\text{Statevector =}\n",
       "\\begin{bmatrix}\n",
       "0 & \\tfrac{1}{\\sqrt{2}} & \\tfrac{1}{\\sqrt{2}} & 0  \\\\\n",
       " \\end{bmatrix}\n",
       "$$"
      ],
      "text/plain": [
       "<IPython.core.display.Latex object>"
      ]
     },
     "execution_count": 46,
     "metadata": {},
     "output_type": "execute_result"
    }
   ],
   "source": [
    "simulation_result = Aer\\\n",
    "                    .get_backend('aer_simulator')\\\n",
    "                    .run(assemble(bell))\\\n",
    "                    .result()\n",
    "array_to_latex(simulation_result.get_statevector(), prefix=\"\\\\text{Statevector =}\")"
   ]
  },
  {
   "cell_type": "markdown",
   "id": "bf4c9c6c-95fd-4925-9377-69b6c3926bdb",
   "metadata": {},
   "source": [
    "So this confirms this circuit produces a Bell state with $|01\\rangle$ and $|10\\rangle$ as possible outputs.\n",
    "\n",
    "Just to make this a little clearer, we can go ahead and plot the results of a simulation as well to make it even clearer."
   ]
  },
  {
   "cell_type": "code",
   "execution_count": 47,
   "id": "5813f48b-3ec3-4b78-aebe-f47ac423e4fe",
   "metadata": {},
   "outputs": [
    {
     "data": {
      "image/png": "[encoded data removed]",
      "text/plain": [
       "<Figure size 504x360 with 1 Axes>"
      ]
     },
     "execution_count": 47,
     "metadata": {},
     "output_type": "execute_result"
    }
   ],
   "source": [
    "plot_histogram(\n",
    "    simulation_result\n",
    "    .get_counts(bell)\n",
    ")"
   ]
  },
  {
   "cell_type": "markdown",
   "id": "f4b19d3b-db71-4161-861f-ced5648b6630",
   "metadata": {},
   "source": [
    "As you can see, answer A creates a Bell state."
   ]
  },
  {
   "cell_type": "markdown",
   "id": "00136eb6-dfab-436f-8b2e-e098a4d88b00",
   "metadata": {
    "tags": []
   },
   "source": [
    "### Answer B"
   ]
  },
  {
   "cell_type": "markdown",
   "id": "f71750b0-e1d5-44bf-b330-b242e59c759c",
   "metadata": {
    "tags": []
   },
   "source": [
    "    bell = QuantumCircuit(2)  \n",
    "    bell.cx(0, 1)  \n",
    "    bell.h(0)  \n",
    "    bell.x(1)  \n",
    "\n",
    "Having the $CX$ gate before the $H$ gate does not create a Bell state in the same way as having a $CX$ gate after the $H$ gate would.\n",
    "Since the circuit starts off in $|00\\rangle$, the $CX$ gate doesn’t actually do anything.\n",
    "The $H$ gate makes the first qubit have a 50% chance of being 0 or 1, but the $X$ gate on the second qubit means that qubit will always be 1.\n",
    "So, the possible states are $|10\\rangle$ or $|11\\rangle$.\n",
    "\n",
    "#### Let's take a closer look:"
   ]
  },
  {
   "cell_type": "code",
   "execution_count": 48,
   "id": "bacbf5ff-a5eb-4ab6-82ce-7c0c0c2ac870",
   "metadata": {},
   "outputs": [
    {
     "data": {
      "image/png": "[encoded data removed]",
      "text/plain": [
       "<Figure size 267.052x144.48 with 1 Axes>"
      ]
     },
     "execution_count": 48,
     "metadata": {},
     "output_type": "execute_result"
    }
   ],
   "source": [
    "from qiskit import QuantumCircuit, Aer, assemble\n",
    "from qiskit.visualization import plot_histogram, array_to_latex\n",
    "\n",
    "# Code fragment being explored\n",
    "bell = QuantumCircuit(2)  \n",
    "bell.cx(0, 1)  \n",
    "bell.h(0)  \n",
    "bell.x(1) \n",
    "\n",
    "# Save the statevector for later\n",
    "bell.save_statevector()\n",
    "\n",
    "# Draw the code fragment\n",
    "bell.draw('mpl')"
   ]
  },
  {
   "cell_type": "markdown",
   "id": "9365be4b-cf16-49c9-8eeb-af00a12fe7c7",
   "metadata": {},
   "source": [
    "Now that we see the circuit, we can examine the resulting statevector and see this is a Bell state.\n",
    "Remember that the statevector will be represented as $\\left[ |00\\rangle |01\\rangle |10\\rangle |11\\rangle \\right]$."
   ]
  },
  {
   "cell_type": "code",
   "execution_count": 49,
   "id": "7fe5569c-0924-4d56-af87-0c642802d254",
   "metadata": {},
   "outputs": [
    {
     "data": {
      "text/latex": [
       "$$\n",
       "\\text{Statevector =}\n",
       "\\begin{bmatrix}\n",
       "0 & 0 & \\tfrac{1}{\\sqrt{2}} & \\tfrac{1}{\\sqrt{2}}  \\\\\n",
       " \\end{bmatrix}\n",
       "$$"
      ],
      "text/plain": [
       "<IPython.core.display.Latex object>"
      ]
     },
     "execution_count": 49,
     "metadata": {},
     "output_type": "execute_result"
    }
   ],
   "source": [
    "simulation_result = Aer\\\n",
    "                    .get_backend('aer_simulator')\\\n",
    "                    .run(assemble(bell))\\\n",
    "                    .result()\n",
    "array_to_latex(simulation_result.get_statevector(), prefix=\"\\\\text{Statevector =}\")"
   ]
  },
  {
   "cell_type": "markdown",
   "id": "886d1448-0572-4738-a132-7ad815a2d861",
   "metadata": {},
   "source": [
    "So this confirms this circuit produces a state with $|10\\rangle$ and $|11\\rangle$ as possible outputs.\n",
    "\n",
    "Just to make this a little clearer, we can go ahead and plot the results of a simulation as well to make it even clearer."
   ]
  },
  {
   "cell_type": "code",
   "execution_count": 50,
   "id": "ee19dfad-342b-4e87-a253-421195dd2f99",
   "metadata": {},
   "outputs": [
    {
     "data": {
      "image/png": "[encoded data removed]",
      "text/plain": [
       "<Figure size 504x360 with 1 Axes>"
      ]
     },
     "execution_count": 50,
     "metadata": {},
     "output_type": "execute_result"
    }
   ],
   "source": [
    "plot_histogram(\n",
    "    simulation_result\n",
    "    .get_counts(bell)\n",
    ")"
   ]
  },
  {
   "cell_type": "markdown",
   "id": "aee8ef2e-4b3d-4604-803f-6ec0ef2c66c1",
   "metadata": {},
   "source": [
    "As you can see, answer B does not create a Bell state."
   ]
  },
  {
   "cell_type": "markdown",
   "id": "e894ef46-6324-4b34-bd9c-3fa8cd150391",
   "metadata": {
    "jp-MarkdownHeadingCollapsed": true,
    "tags": []
   },
   "source": [
    "### Answer C"
   ]
  },
  {
   "cell_type": "markdown",
   "id": "01952036-25af-4f21-84e3-7bf8628d4cb8",
   "metadata": {},
   "source": [
    "    bell = QuantumCircuit (2)  \n",
    "    bell.h(0)  \n",
    "    bell.x(1)  \n",
    "    bell.cz(0, 1)  \n",
    "\n",
    "The $H$ gate makes the first qubit have a 50% chance of being 0 or 1, but the $X$ gate on the second qubit means that qubit will always be 1.\n",
    "Since the $CZ$ gate rotates around the Z axis, it does not affect the outcome of the measurement.\n",
    "Consequently, the possible states are $|10\\rangle$ or $|11\\rangle$.\n",
    "\n",
    "#### Let's take a closer look:"
   ]
  },
  {
   "cell_type": "code",
   "execution_count": 51,
   "id": "1842e6b3-80f9-4e08-a01e-002929b2eefa",
   "metadata": {},
   "outputs": [
    {
     "data": {
      "image/png": "[encoded data removed]",
      "text/plain": [
       "<Figure size 267.052x144.48 with 1 Axes>"
      ]
     },
     "execution_count": 51,
     "metadata": {},
     "output_type": "execute_result"
    }
   ],
   "source": [
    "from qiskit import QuantumCircuit, Aer, assemble\n",
    "from qiskit.visualization import plot_histogram, array_to_latex\n",
    "\n",
    "# Code fragment being explored\n",
    "bell = QuantumCircuit (2)  \n",
    "bell.h(0)  \n",
    "bell.x(1)  \n",
    "bell.cz(0, 1)  \n",
    "\n",
    "# Save the statevector for later\n",
    "bell.save_statevector()\n",
    "\n",
    "# Draw the code fragment\n",
    "bell.draw('mpl')"
   ]
  },
  {
   "cell_type": "markdown",
   "id": "e6e58c56-ee10-4077-97b5-221e0302fab0",
   "metadata": {},
   "source": [
    "Now that we see the circuit, we can examine the resulting statevector and see this is a Bell state.\n",
    "Remember that the statevector will be represented as $\\left[ |00\\rangle |01\\rangle |10\\rangle |11\\rangle \\right]$."
   ]
  },
  {
   "cell_type": "code",
   "execution_count": 52,
   "id": "e08a387d-d507-4c2a-9b42-cabc91f1f0f1",
   "metadata": {},
   "outputs": [
    {
     "data": {
      "text/latex": [
       "$$\n",
       "\\text{Statevector =}\n",
       "\\begin{bmatrix}\n",
       "0 & 0 & \\tfrac{1}{\\sqrt{2}} & -\\tfrac{1}{\\sqrt{2}}  \\\\\n",
       " \\end{bmatrix}\n",
       "$$"
      ],
      "text/plain": [
       "<IPython.core.display.Latex object>"
      ]
     },
     "execution_count": 52,
     "metadata": {},
     "output_type": "execute_result"
    }
   ],
   "source": [
    "simulation_result = Aer\\\n",
    "                    .get_backend('aer_simulator')\\\n",
    "                    .run(assemble(bell))\\\n",
    "                    .result()\n",
    "array_to_latex(simulation_result.get_statevector(), prefix=\"\\\\text{Statevector =}\")"
   ]
  },
  {
   "cell_type": "markdown",
   "id": "17d86ac0-18ba-4b89-80dd-5cf88dc97e01",
   "metadata": {},
   "source": [
    "So this confirms this circuit produces a state with $|10\\rangle$ and $|11\\rangle$ as possible outputs.\n",
    "\n",
    "Just to make this a little clearer, we can go ahead and plot the results of a simulation as well to make it even clearer."
   ]
  },
  {
   "cell_type": "code",
   "execution_count": 53,
   "id": "48c5de36-b6c3-4d87-afa5-1a27f2216e9d",
   "metadata": {},
   "outputs": [
    {
     "data": {
      "image/png": "[encoded data removed]",
      "text/plain": [
       "<Figure size 504x360 with 1 Axes>"
      ]
     },
     "execution_count": 53,
     "metadata": {},
     "output_type": "execute_result"
    }
   ],
   "source": [
    "plot_histogram(\n",
    "    simulation_result\n",
    "    .get_counts(bell)\n",
    ")"
   ]
  },
  {
   "cell_type": "markdown",
   "id": "b81e2ac1-796c-47a1-8e12-dd6aa7de1672",
   "metadata": {},
   "source": [
    "As you can see, answer C does not create a Bell state."
   ]
  },
  {
   "cell_type": "markdown",
   "id": "15afd510-0fb4-43fa-8caf-7f3ce5e1302e",
   "metadata": {
    "jp-MarkdownHeadingCollapsed": true,
    "tags": []
   },
   "source": [
    "### Answer D"
   ]
  },
  {
   "cell_type": "markdown",
   "id": "162e7c30-818a-4dd8-8c4e-4ff6a47dc3d8",
   "metadata": {},
   "source": [
    "    bell = QuantumCircuit(2)\n",
    "    bell.h(0)\n",
    "    bell.h(0)  \n",
    "\n",
    "In this circuit, there is no entanglement between the two qubits.\n",
    "Furthermore, the two $H$ gates applied to the same qubit return the Bloch vector to $|0\\rangle$ for that qubit.\n",
    "Therefore, there is a 100% probability that the outcome will be $|00\\rangle$.\n",
    "\n",
    "#### Let's take a closer look:"
   ]
  },
  {
   "cell_type": "code",
   "execution_count": 59,
   "id": "f5c0cdca-dd4d-476e-bc59-13154fdc4f8f",
   "metadata": {},
   "outputs": [
    {
     "data": {
      "image/png": "[encoded data removed]",
      "text/plain": [
       "<Figure size 267.052x144.48 with 1 Axes>"
      ]
     },
     "execution_count": 59,
     "metadata": {},
     "output_type": "execute_result"
    }
   ],
   "source": [
    "from qiskit import QuantumCircuit, Aer, assemble\n",
    "from qiskit.visualization import plot_histogram, array_to_latex\n",
    "\n",
    "# Code fragment being explored\n",
    "bell = QuantumCircuit(2)\n",
    "bell.h(0)\n",
    "bell.h(0) \n",
    "\n",
    "# Save the statevector for later\n",
    "bell.save_statevector()\n",
    "\n",
    "# Draw the code fragment\n",
    "bell.draw('mpl')"
   ]
  },
  {
   "cell_type": "markdown",
   "id": "89b45212-49aa-4254-87a9-da6e2a9c6fb5",
   "metadata": {},
   "source": [
    "Now that we see the circuit, we can examine the resulting statevector and see this is a Bell state.\n",
    "Remember that the statevector will be represented as $\\left[ |00\\rangle |01\\rangle |10\\rangle |11\\rangle \\right]$."
   ]
  },
  {
   "cell_type": "code",
   "execution_count": 60,
   "id": "0f5b8453-9a26-4b29-86b4-0cbe90689bcf",
   "metadata": {},
   "outputs": [
    {
     "data": {
      "text/latex": [
       "$$\n",
       "\\text{Statevector =}\n",
       "\\begin{bmatrix}\n",
       "1 & 0 & 0 & 0  \\\\\n",
       " \\end{bmatrix}\n",
       "$$"
      ],
      "text/plain": [
       "<IPython.core.display.Latex object>"
      ]
     },
     "execution_count": 60,
     "metadata": {},
     "output_type": "execute_result"
    }
   ],
   "source": [
    "simulation_result = Aer\\\n",
    "                    .get_backend('aer_simulator')\\\n",
    "                    .run(assemble(bell))\\\n",
    "                    .result()\n",
    "array_to_latex(simulation_result.get_statevector(), prefix=\"\\\\text{Statevector =}\")"
   ]
  },
  {
   "cell_type": "markdown",
   "id": "0464739e-8c33-4b4d-9032-e375063db710",
   "metadata": {},
   "source": [
    "So this confirms this circuit produces a state with $|00\\rangle$ as the only possible output.\n",
    "\n",
    "Just to make this a little clearer, we can go ahead and plot the results of a simulation as well to make it even clearer."
   ]
  },
  {
   "cell_type": "code",
   "execution_count": 61,
   "id": "70b6d117-fff1-453e-a336-bc230120b2b5",
   "metadata": {},
   "outputs": [
    {
     "data": {
      "image/png": "[encoded data removed]",
      "text/plain": [
       "<Figure size 504x360 with 1 Axes>"
      ]
     },
     "execution_count": 61,
     "metadata": {},
     "output_type": "execute_result"
    }
   ],
   "source": [
    "plot_histogram(\n",
    "    simulation_result\n",
    "    .get_counts(bell)\n",
    ")"
   ]
  },
  {
   "cell_type": "markdown",
   "id": "6cca277c-e054-4e40-9e52-82186da4493e",
   "metadata": {},
   "source": [
    "As you can see, answer D does not create a Bell state."
   ]
  }
 ],
 "metadata": {
  "kernelspec": {
   "display_name": "Python 3 (ipykernel)",
   "language": "python",
   "name": "python3"
  },
  "language_info": {
   "codemirror_mode": {
    "name": "ipython",
    "version": 3
   },
   "file_extension": ".py",
   "mimetype": "text/x-python",
   "name": "python",
   "nbconvert_exporter": "python",
   "pygments_lexer": "ipython3",
   "version": "3.9.0"
  }
 },
 "nbformat": 4,
 "nbformat_minor": 5
}
