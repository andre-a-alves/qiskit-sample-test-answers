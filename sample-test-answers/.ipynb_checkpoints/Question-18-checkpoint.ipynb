{
 "cells": [
  {
   "cell_type": "markdown",
   "id": "3af02558-9cfb-4490-a614-18fa834b2f04",
   "metadata": {},
   "source": [
    "# Question 18\n",
    "\n",
    "#### Which code fragment would yield an operator that represents a single-qubit $X$ gate?"
   ]
  },
  {
   "cell_type": "markdown",
   "id": "11423c8f-1a34-43f6-bec7-4988fa7d991b",
   "metadata": {
    "tags": []
   },
   "source": [
    "## Answer Options\n",
    "\n",
    "**A.**\n",
    "\n",
    "    op = Operator.Xop(0)\n",
    "**B.** \n",
    "\n",
    "    op = Operator([[0,1]])\n",
    "**C.** \n",
    "\n",
    "    qc = QuantumCircuit(1)\n",
    "    qc.x(0)\n",
    "    op = Operator(qc)\n",
    "**D.** \n",
    "\n",
    "    op = Operator([[1,0,0,1]])"
   ]
  },
  {
   "cell_type": "markdown",
   "id": "b0100e8a-2b3d-4cd9-bb93-37de00af7ef6",
   "metadata": {
    "jp-MarkdownHeadingCollapsed": true,
    "tags": []
   },
   "source": [
    "## Question Explanation"
   ]
  },
  {
   "cell_type": "markdown",
   "id": "e6ab0828-f175-4515-9f7d-43355fed38df",
   "metadata": {},
   "source": [
    "The `Operator` Class represents a matrix operator that will evolve a statevector by matrix-vector multiplication.\n",
    "All gates can be represented by `Operator` objects, because gates each have matrix forms.\n",
    "\n",
    "The matrix form of the $X$ gate is\n",
    "$X = \\begin{bmatrix} 0&1 \\\\\\\\ 1&0 \\end{bmatrix}$"
   ]
  },
  {
   "cell_type": "markdown",
   "id": "c9efafda-6d54-4abe-abd1-8f9ec59d4180",
   "metadata": {
    "jp-MarkdownHeadingCollapsed": true,
    "tags": []
   },
   "source": [
    "## References"
   ]
  },
  {
   "cell_type": "markdown",
   "id": "5ab7aaa0-4744-4eda-80c2-9273b4a04900",
   "metadata": {},
   "source": [
    "* [Qiskit Operator API](https://qiskit.org/documentation/stubs/qiskit.quantum_info.Operator.html?highlight=operator#qiskit.quantum_info.Operator)\n",
    "* [Qiskit Textbook - Single Qubit Gates](https://qiskit.org/textbook/ch-states/single-qubit-gates.html)"
   ]
  },
  {
   "cell_type": "markdown",
   "id": "5483029f-3803-4b75-a5e0-786ecfa15907",
   "metadata": {
    "jp-MarkdownHeadingCollapsed": true,
    "tags": []
   },
   "source": [
    "## Correct Answer"
   ]
  },
  {
   "cell_type": "markdown",
   "id": "336be34a-1cbf-4256-bf29-fceefd8ef050",
   "metadata": {},
   "source": [
    "**C.** \n",
    "\n",
    "    qc = QuantumCircuit(1)\n",
    "    qc.x(0)\n",
    "    op = Operator(qc)"
   ]
  },
  {
   "cell_type": "markdown",
   "id": "e2363f9b-5b8f-49f3-a090-f144e42b232a",
   "metadata": {
    "jp-MarkdownHeadingCollapsed": true,
    "tags": []
   },
   "source": [
    "## Answer Explanations"
   ]
  },
  {
   "cell_type": "markdown",
   "id": "3b22859d-45b6-460b-8394-69eaa490ce35",
   "metadata": {
    "jp-MarkdownHeadingCollapsed": true,
    "tags": []
   },
   "source": [
    "### Answer A"
   ]
  },
  {
   "cell_type": "markdown",
   "id": "9ef3e69e-81af-4949-9905-6a991dd084ef",
   "metadata": {
    "tags": []
   },
   "source": [
    "`op = Operator.Xop(0)`\n",
    "\n",
    "The `Operator` class does not have an `Xop()` method.\n",
    "This code fragment will through an error.\n",
    "\n",
    "#### Let's take a closer look:"
   ]
  },
  {
   "cell_type": "code",
   "execution_count": 1,
   "id": "dc1866c8-2a62-450b-97c1-79b3dc4f3a47",
   "metadata": {
    "tags": []
   },
   "outputs": [
    {
     "name": "stdout",
     "output_type": "stream",
     "text": [
      "Exception thrown: type object 'Operator' has no attribute 'Xop'\n"
     ]
    }
   ],
   "source": [
    "from qiskit.quantum_info import Operator\n",
    "\n",
    "try:\n",
    "    op = Operator.Xop(0)\n",
    "except Exception as e:\n",
    "    print(f\"Exception thrown: {e}\")"
   ]
  },
  {
   "cell_type": "markdown",
   "id": "f4b19d3b-db71-4161-861f-ced5648b6630",
   "metadata": {},
   "source": [
    "As you can see, answer A throws an error."
   ]
  },
  {
   "cell_type": "markdown",
   "id": "00136eb6-dfab-436f-8b2e-e098a4d88b00",
   "metadata": {
    "jp-MarkdownHeadingCollapsed": true,
    "tags": []
   },
   "source": [
    "### Answer B"
   ]
  },
  {
   "cell_type": "markdown",
   "id": "f71750b0-e1d5-44bf-b330-b242e59c759c",
   "metadata": {
    "tags": []
   },
   "source": [
    "`op = Operator([[0,1]])`\n",
    "\n",
    "While you can pass the matrix with which to intialize an operator, this code fragment only passes the top row of an $X$ gate as a parameter to the `Operator` constructor.\n",
    "To return an $X$ gate operator, the code fragment would have to pass `[[0,1],[1,0]]` to represent $\\big[\\begin{smallmatrix} 0&1 \\\\\\\\ 1&0 \\end{smallmatrix}\\big]$.\n",
    "\n",
    "#### Let's take a closer look:"
   ]
  },
  {
   "cell_type": "code",
   "execution_count": 2,
   "id": "9fbe17ec-f8f3-4db3-a00a-7ca7203ae4d5",
   "metadata": {
    "tags": []
   },
   "outputs": [
    {
     "data": {
      "text/latex": [
       "$$\n",
       "\\text{Operator passed}: \n",
       "\\begin{bmatrix}\n",
       "0 & 1  \\\\\n",
       " \\end{bmatrix}\n",
       "$$"
      ],
      "text/plain": [
       "<IPython.core.display.Latex object>"
      ]
     },
     "execution_count": 2,
     "metadata": {},
     "output_type": "execute_result"
    }
   ],
   "source": [
    "from qiskit.quantum_info import Operator\n",
    "from qiskit.visualization import array_to_latex\n",
    "\n",
    "op = Operator([[0, 1]])\n",
    "array_to_latex(op, prefix=\"\\\\text{Operator passed}: \")"
   ]
  },
  {
   "cell_type": "markdown",
   "id": "da3bc480-33fb-4345-b821-39747d047ed6",
   "metadata": {},
   "source": [
    "As you can see, answer B only passes the top half of the matrix for an $X$ gate."
   ]
  },
  {
   "cell_type": "code",
   "execution_count": 3,
   "id": "0e979173-f00c-48ad-b2ac-5eb2aa272909",
   "metadata": {
    "tags": []
   },
   "outputs": [
    {
     "data": {
      "text/latex": [
       "$$\n",
       "\\text{Operator passed}: \n",
       "\\begin{bmatrix}\n",
       "0 & 1  \\\\\n",
       " 1 & 0  \\\\\n",
       " \\end{bmatrix}\n",
       "$$"
      ],
      "text/plain": [
       "<IPython.core.display.Latex object>"
      ]
     },
     "execution_count": 3,
     "metadata": {},
     "output_type": "execute_result"
    }
   ],
   "source": [
    "op = Operator([[0, 1], [1, 0]])\n",
    "array_to_latex(op, prefix=\"\\\\text{Operator passed}: \")"
   ]
  },
  {
   "cell_type": "markdown",
   "id": "a8ffd4f5-f421-4a75-8daa-c0c45aff3acb",
   "metadata": {},
   "source": [
    "Generating an $X$ gate would require an additional row in the matrix passed to the `Operator` constructor."
   ]
  },
  {
   "cell_type": "markdown",
   "id": "e894ef46-6324-4b34-bd9c-3fa8cd150391",
   "metadata": {
    "jp-MarkdownHeadingCollapsed": true,
    "tags": []
   },
   "source": [
    "### Answer C"
   ]
  },
  {
   "cell_type": "markdown",
   "id": "01952036-25af-4f21-84e3-7bf8628d4cb8",
   "metadata": {},
   "source": [
    "`qc = QuantumCircuit(1)`  \n",
    "`qc.x(0)`  \n",
    "`op = Operator(qc)`  \n",
    "\n",
    "This answer works a little differently than the other three.\n",
    "Instead of passing a matrix representing the matrix we want for the operator, this answer passes a `QuantumCircuit` that contains the appropriate gate.\n",
    "`Operator` can accept a `QuantumCircuit` as a construction parameter, and it will return an `Operator` that represents a matrix that would perform the same operation as that circuit.\n",
    "Since this code passes a circuit with only a single $X$ gate, that is what the `Operator` object will represent.\n",
    "\n",
    "#### Let's take a closer look:"
   ]
  },
  {
   "cell_type": "code",
   "execution_count": 4,
   "id": "20ee2824-6568-4968-bbce-910737713986",
   "metadata": {
    "tags": []
   },
   "outputs": [],
   "source": [
    "from qiskit import BasicAer, QuantumCircuit\n",
    "\n",
    "qc = QuantumCircuit(1)\n",
    "qc.x(0)\n",
    "op = Operator(qc)"
   ]
  },
  {
   "cell_type": "markdown",
   "id": "41670744-4354-4f34-8b46-f71c27994ab4",
   "metadata": {},
   "source": [
    "As a good sign, this code executed without throwing any exceptions.\n",
    "\n",
    "If we draw the quantum circuit for `qc`, we confirm the entire circuit only contains a single $X$ gate."
   ]
  },
  {
   "cell_type": "code",
   "execution_count": 5,
   "id": "25ee52ef-aabc-4d49-a4f9-78c6b351854f",
   "metadata": {
    "tags": []
   },
   "outputs": [
    {
     "data": {
      "image/png": "[encoded data removed]",
      "text/plain": [
       "<Figure size 185.453x117.056 with 1 Axes>"
      ]
     },
     "execution_count": 5,
     "metadata": {},
     "output_type": "execute_result"
    }
   ],
   "source": [
    "qc.draw(\"mpl\")"
   ]
  },
  {
   "cell_type": "markdown",
   "id": "bffba204-20a9-4270-b179-4967a62764ed",
   "metadata": {},
   "source": [
    "Since that is what we passed to the `Operator` constructor, that will be the entire opertion the `Operator` object will represent."
   ]
  },
  {
   "cell_type": "code",
   "execution_count": 6,
   "id": "a61d272b-c1a3-47dc-8a02-48bb030be993",
   "metadata": {
    "tags": []
   },
   "outputs": [
    {
     "data": {
      "text/latex": [
       "$$\n",
       "\\text{Operator passed}: \n",
       "\\begin{bmatrix}\n",
       "0 & 1  \\\\\n",
       " 1 & 0  \\\\\n",
       " \\end{bmatrix}\n",
       "$$"
      ],
      "text/plain": [
       "<IPython.core.display.Latex object>"
      ]
     },
     "execution_count": 6,
     "metadata": {},
     "output_type": "execute_result"
    }
   ],
   "source": [
    "array_to_latex(op, prefix=\"\\\\text{Operator passed}: \")"
   ]
  },
  {
   "cell_type": "markdown",
   "id": "16a9aaf4-b006-42f0-87bb-1196d600efe0",
   "metadata": {},
   "source": [
    "As you can see above, this produced an `Operator` that represents an $X$ gate."
   ]
  },
  {
   "cell_type": "markdown",
   "id": "15afd510-0fb4-43fa-8caf-7f3ce5e1302e",
   "metadata": {
    "jp-MarkdownHeadingCollapsed": true,
    "tags": []
   },
   "source": [
    "### Answer D"
   ]
  },
  {
   "cell_type": "markdown",
   "id": "162e7c30-818a-4dd8-8c4e-4ff6a47dc3d8",
   "metadata": {},
   "source": [
    "`op = Operator([[1,0,0,1]])`  \n",
    "\n",
    "While you can pass the matrix with which to intialize an operator, this code fragment passes the entire $X$ gate as a single row matrix as a parameter to the Operator constructor.\n",
    "To return an $X$ gate operator, the code fragment would have to pass `[[0,1],[1,0]]` to represent $\\big[\\begin{smallmatrix} 0&1 \\\\\\\\ 1&0 \\end{smallmatrix}\\big]$.\n",
    "As written, this fragment passes $\\big[\\begin{smallmatrix} 0&1&1&0 \\end{smallmatrix}\\big]$.\n",
    "\n",
    "#### Let's take a closer look:"
   ]
  },
  {
   "cell_type": "code",
   "execution_count": 7,
   "id": "f90493bd-a044-4813-9692-933fb33723c1",
   "metadata": {
    "tags": []
   },
   "outputs": [
    {
     "data": {
      "text/latex": [
       "$$\n",
       "\\text{Operator passed}: \n",
       "\\begin{bmatrix}\n",
       "1 & 0 & 0 & 1  \\\\\n",
       " \\end{bmatrix}\n",
       "$$"
      ],
      "text/plain": [
       "<IPython.core.display.Latex object>"
      ]
     },
     "execution_count": 7,
     "metadata": {},
     "output_type": "execute_result"
    }
   ],
   "source": [
    "from qiskit.quantum_info import Operator\n",
    "\n",
    "op = Operator([[1, 0, 0, 1]])\n",
    "array_to_latex(op, prefix=\"\\\\text{Operator passed}: \")"
   ]
  },
  {
   "cell_type": "markdown",
   "id": "a2611d56-3c8a-4839-b2a6-574f6188ff90",
   "metadata": {},
   "source": [
    "As you can see, answer D passes a 1x4 matrix instead of a 2x2 matrix."
   ]
  },
  {
   "cell_type": "code",
   "execution_count": 8,
   "id": "bf7923d2-aecc-40d5-96e4-47bd88c8abd4",
   "metadata": {
    "tags": []
   },
   "outputs": [
    {
     "data": {
      "text/latex": [
       "$$\n",
       "\\text{Operator passed}: \n",
       "\\begin{bmatrix}\n",
       "0 & 1  \\\\\n",
       " 1 & 0  \\\\\n",
       " \\end{bmatrix}\n",
       "$$"
      ],
      "text/plain": [
       "<IPython.core.display.Latex object>"
      ]
     },
     "execution_count": 8,
     "metadata": {},
     "output_type": "execute_result"
    }
   ],
   "source": [
    "op = Operator([[0, 1], [1, 0]])\n",
    "array_to_latex(op, prefix=\"\\\\text{Operator passed}: \")"
   ]
  },
  {
   "cell_type": "markdown",
   "id": "dd11d877-c6c6-4946-87df-0605fdea9abf",
   "metadata": {},
   "source": [
    "Generating an $X$ gate would require the initial matrix to be broken up into two separate rowns when passing to the `Operator` constructor."
   ]
  }
 ],
 "metadata": {
  "kernelspec": {
   "display_name": "Python 3 (ipykernel)",
   "language": "python",
   "name": "python3"
  },
  "language_info": {
   "codemirror_mode": {
    "name": "ipython",
    "version": 3
   },
   "file_extension": ".py",
   "mimetype": "text/x-python",
   "name": "python",
   "nbconvert_exporter": "python",
   "pygments_lexer": "ipython3",
   "version": "3.10.8"
  }
 },
 "nbformat": 4,
 "nbformat_minor": 5
}
