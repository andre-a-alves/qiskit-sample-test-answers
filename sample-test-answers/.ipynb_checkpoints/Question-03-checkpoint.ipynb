{
 "cells": [
  {
   "attachments": {
    "7d19a710-21d8-4676-bc03-590cf0b70aee.png": {
     "image/png": "[encoded data removed]"
    }
   },
   "cell_type": "markdown",
   "id": "3af02558-9cfb-4490-a614-18fa834b2f04",
   "metadata": {},
   "source": [
    "# Question 3\n",
    "\n",
    "#### Assuming the fragment below, which three code fragments would produce the circuit illustrated? (Select three)\n",
    "\n",
    "    inp_reg = QuantumRegister(2, name='inp')\n",
    "    ancilla = QuantumRegister(1, name='anc')\n",
    "    qc = QuantumCircuit(inp_reg, ancilla)\n",
    "\n",
    "![question-3.png](attachment:7d19a710-21d8-4676-bc03-590cf0b70aee.png)"
   ]
  },
  {
   "cell_type": "markdown",
   "id": "11423c8f-1a34-43f6-bec7-4988fa7d991b",
   "metadata": {
    "tags": []
   },
   "source": [
    "## Answer Options\n",
    "\n",
    "**A.**  \n",
    "    qc.h(inp_reg)  \n",
    "    qc.x(ancilla)  \n",
    "    qc.draw()  \n",
    "**B.**  \n",
    "    qc.h(inp_reg[0:2])  \n",
    "    qc.x(ancilla[0])  \n",
    "    qc.draw()  \n",
    "**C.**  \n",
    "    qc.h(inp_reg[0:1])  \n",
    "    qc.x(ancilla[0])  \n",
    "    qc.draw()  \n",
    "**D.**  \n",
    "    qc.h(inp_reg[0])  \n",
    "    qc.h(inp_reg[1])  \n",
    "    qc.x(ancilla[0])  \n",
    "    qc.draw()  \n",
    "**E.**  \n",
    "    qc.h(inp_reg[1])  \n",
    "    qc.h(inp_reg[2])  \n",
    "    qc.x(ancilla[1])  \n",
    "    qc.draw()  \n",
    "**F.**  \n",
    "    qc.h(inp_reg)  \n",
    "    qc.h(inp_reg)  \n",
    "    qc.x(ancilla)  \n",
    "    qc.draw()  "
   ]
  },
  {
   "cell_type": "markdown",
   "id": "b0100e8a-2b3d-4cd9-bb93-37de00af7ef6",
   "metadata": {
    "tags": []
   },
   "source": [
    "## Question Explanation"
   ]
  },
  {
   "cell_type": "markdown",
   "id": "e6ab0828-f175-4515-9f7d-43355fed38df",
   "metadata": {},
   "source": [
    "This important piece to understand from this question is that in Python, the first element of a list has an index of 0.\n",
    "One must also understand that the notation __[ x : y ]__ mean the numbers will begin at x, and y will be the first index not included in the list.\n",
    "So [0:3] will be [0, 1, 2] and [4:5] will be [4]."
   ]
  },
  {
   "cell_type": "code",
   "execution_count": 1,
   "id": "ddf5e4fd-faf2-4136-9d40-22d5cdf43ad9",
   "metadata": {},
   "outputs": [
    {
     "name": "stdout",
     "output_type": "stream",
     "text": [
      "[0, 1, 2, 3, 4]\n",
      "[0, 1, 2]\n",
      "[4]\n"
     ]
    }
   ],
   "source": [
    "sample = [i for i in range(5)]\n",
    "print(sample)\n",
    "print(sample[0:3])\n",
    "print(sample[4:5])"
   ]
  },
  {
   "cell_type": "markdown",
   "id": "c9efafda-6d54-4abe-abd1-8f9ec59d4180",
   "metadata": {
    "jp-MarkdownHeadingCollapsed": true,
    "tags": []
   },
   "source": [
    "## References"
   ]
  },
  {
   "cell_type": "markdown",
   "id": "5ab7aaa0-4744-4eda-80c2-9273b4a04900",
   "metadata": {},
   "source": [
    "[What's New in Python 2.3 - 15 Extended Slices](https://docs.python.org/2.3/whatsnew/section-slices.html)"
   ]
  },
  {
   "cell_type": "markdown",
   "id": "5483029f-3803-4b75-a5e0-786ecfa15907",
   "metadata": {
    "jp-MarkdownHeadingCollapsed": true,
    "tags": []
   },
   "source": [
    "## Correct Answer"
   ]
  },
  {
   "cell_type": "markdown",
   "id": "336be34a-1cbf-4256-bf29-fceefd8ef050",
   "metadata": {},
   "source": [
    "**A.**  \n",
    "    qc.h(inp_reg)  \n",
    "    qc.x(ancilla)  \n",
    "    qc.draw()  \n",
    "**B.**  \n",
    "    qc.h(inp_reg[0:2])  \n",
    "    qc.x(ancilla[0])  \n",
    "    qc.draw()  \n",
    "**D.**  \n",
    "    qc.h(inp_reg[0])  \n",
    "    qc.h(inp_reg[1])  \n",
    "    qc.x(ancilla[0])  \n",
    "    qc.draw()  "
   ]
  },
  {
   "cell_type": "markdown",
   "id": "e2363f9b-5b8f-49f3-a090-f144e42b232a",
   "metadata": {
    "tags": []
   },
   "source": [
    "## Answer Explanations"
   ]
  },
  {
   "cell_type": "markdown",
   "id": "3b22859d-45b6-460b-8394-69eaa490ce35",
   "metadata": {
    "jp-MarkdownHeadingCollapsed": true,
    "tags": []
   },
   "source": [
    "### Answer A"
   ]
  },
  {
   "cell_type": "markdown",
   "id": "9ef3e69e-81af-4949-9905-6a991dd084ef",
   "metadata": {},
   "source": [
    "    qc.h(inp_reg)  \n",
    "    qc.x(ancilla)  \n",
    "    qc.draw() \n",
    "\n",
    "This would apply an $H$ gate to both `inp_reg` qubits and an $X$ gate to the `ancilla` qubit.\n",
    "\n",
    "#### Let's take a closer look:"
   ]
  },
  {
   "cell_type": "code",
   "execution_count": null,
   "id": "dc1866c8-2a62-450b-97c1-79b3dc4f3a47",
   "metadata": {},
   "outputs": [],
   "source": [
    "from qiskit import QuantumCircuit, QuantumRegister\n",
    "\n",
    "inp_reg = QuantumRegister(2, name='inp')\n",
    "ancilla = QuantumRegister(1, name='anc')\n",
    "qc = QuantumCircuit(inp_reg, ancilla)\n",
    "qc.h(inp_reg)\n",
    "qc.x(ancilla)\n",
    "qc.draw('mpl')"
   ]
  },
  {
   "cell_type": "markdown",
   "id": "f4b19d3b-db71-4161-861f-ced5648b6630",
   "metadata": {},
   "source": [
    "As you can see, answer A results in the correct circuit illustration."
   ]
  },
  {
   "cell_type": "markdown",
   "id": "00136eb6-dfab-436f-8b2e-e098a4d88b00",
   "metadata": {
    "jp-MarkdownHeadingCollapsed": true,
    "tags": []
   },
   "source": [
    "### Answer B"
   ]
  },
  {
   "cell_type": "markdown",
   "id": "f71750b0-e1d5-44bf-b330-b242e59c759c",
   "metadata": {},
   "source": [
    "    qc.h(inp_reg[0:2])  \n",
    "    qc.x(ancilla[0])  \n",
    "    qc.draw()  \n",
    "\n",
    "This would apply an $H$ gate to the first two `inp_reg` qubits, and an $X$ gate to the first `ancilla` qubit.\n",
    "\n",
    "#### Let's take a closer look:"
   ]
  },
  {
   "cell_type": "code",
   "execution_count": null,
   "id": "9fbe17ec-f8f3-4db3-a00a-7ca7203ae4d5",
   "metadata": {},
   "outputs": [],
   "source": [
    "from qiskit import QuantumCircuit, QuantumRegister\n",
    "\n",
    "inp_reg = QuantumRegister(2, name='inp')\n",
    "ancilla = QuantumRegister(1, name='anc')\n",
    "qc = QuantumCircuit(inp_reg, ancilla)\n",
    "qc.h(inp_reg[0:2])  \n",
    "qc.x(ancilla[0]) \n",
    "qc.draw('mpl')"
   ]
  },
  {
   "cell_type": "markdown",
   "id": "da3bc480-33fb-4345-b821-39747d047ed6",
   "metadata": {},
   "source": [
    "As you can see, answer B results in the correct circuit illustration."
   ]
  },
  {
   "cell_type": "markdown",
   "id": "e894ef46-6324-4b34-bd9c-3fa8cd150391",
   "metadata": {
    "jp-MarkdownHeadingCollapsed": true,
    "tags": []
   },
   "source": [
    "### Answer C"
   ]
  },
  {
   "cell_type": "markdown",
   "id": "01952036-25af-4f21-84e3-7bf8628d4cb8",
   "metadata": {},
   "source": [
    "    qc.h(inp_reg[0:1])  \n",
    "    qc.x(ancilla[0])  \n",
    "    qc.draw()  \n",
    "\n",
    "This would apply an $H$ gate to the first `inp_reg` qubit and an $X$ gate to the first `ancilla` qubit.\n",
    "However, no gate would be applied to the second `inp_reg` qubit.\n",
    "\n",
    "#### Let's take a closer look:"
   ]
  },
  {
   "cell_type": "code",
   "execution_count": null,
   "id": "20ee2824-6568-4968-bbce-910737713986",
   "metadata": {},
   "outputs": [],
   "source": [
    "from qiskit import QuantumCircuit, QuantumRegister\n",
    "\n",
    "inp_reg = QuantumRegister(2, name='inp')\n",
    "ancilla = QuantumRegister(1, name='anc')\n",
    "qc = QuantumCircuit(inp_reg, ancilla)\n",
    "qc.h(inp_reg[0:1])  \n",
    "qc.x(ancilla[0])\n",
    "qc.draw('mpl')"
   ]
  },
  {
   "cell_type": "markdown",
   "id": "41670744-4354-4f34-8b46-f71c27994ab4",
   "metadata": {},
   "source": [
    "As you can see, the second `inp_reg` qubit has no gate applied and does not match the circuit illustrated."
   ]
  },
  {
   "cell_type": "markdown",
   "id": "15afd510-0fb4-43fa-8caf-7f3ce5e1302e",
   "metadata": {
    "jp-MarkdownHeadingCollapsed": true,
    "tags": []
   },
   "source": [
    "### Answer D"
   ]
  },
  {
   "cell_type": "markdown",
   "id": "162e7c30-818a-4dd8-8c4e-4ff6a47dc3d8",
   "metadata": {},
   "source": [
    "    qc.h(inp_reg[0])  \n",
    "    qc.h(inp_reg[1])  \n",
    "    qc.x(ancilla[0])  \n",
    "    qc.draw()  \n",
    "\n",
    "This would apply an $H$ gate to the first `inp_reg` qubit, then an $H$ gate to the second `inp_reg` qubit, and finally an $X$ gate to the first `ancilla` qubit.\n",
    "\n",
    "#### Let's take a closer look:"
   ]
  },
  {
   "cell_type": "code",
   "execution_count": null,
   "id": "f90493bd-a044-4813-9692-933fb33723c1",
   "metadata": {},
   "outputs": [],
   "source": [
    "from qiskit import QuantumCircuit, QuantumRegister\n",
    "\n",
    "inp_reg = QuantumRegister(2, name='inp')\n",
    "ancilla = QuantumRegister(1, name='anc')\n",
    "qc = QuantumCircuit(inp_reg, ancilla)\n",
    "qc.h(inp_reg[0])  \n",
    "qc.h(inp_reg[1])  \n",
    "qc.x(ancilla[0])\n",
    "qc.draw('mpl')"
   ]
  },
  {
   "cell_type": "markdown",
   "id": "a2611d56-3c8a-4839-b2a6-574f6188ff90",
   "metadata": {},
   "source": [
    "As you can see, answer D results in the correct circuit illustration."
   ]
  },
  {
   "cell_type": "markdown",
   "id": "2aa00b0d-e844-46e0-bbd0-a987c938f202",
   "metadata": {
    "jp-MarkdownHeadingCollapsed": true,
    "tags": []
   },
   "source": [
    "### Answer E"
   ]
  },
  {
   "cell_type": "markdown",
   "id": "4a183888-a1a1-4ea3-8d34-e5095b3dfd06",
   "metadata": {},
   "source": [
    "    qc.h(inp_reg[1])  \n",
    "    qc.h(inp_reg[2])  \n",
    "    qc.x(ancilla[1])  \n",
    "    qc.draw()  \n",
    "\n",
    "This would apply an $H$ gate to the second `inp_reg` qubit, an $H$ gate to a nonexistant third `inp_reg` qubit resulting in an error, and an $X$ gate to the nonexistant second `ancilla` qubit.\n",
    "This code will result in an error\n",
    "\n",
    "#### Let's take a closer look:"
   ]
  },
  {
   "cell_type": "code",
   "execution_count": null,
   "id": "a317fd4f-1139-49ba-8419-881232bd8884",
   "metadata": {
    "tags": []
   },
   "outputs": [],
   "source": [
    "from qiskit import QuantumCircuit, QuantumRegister\n",
    "\n",
    "try:\n",
    "    inp_reg = QuantumRegister(2, name='inp')\n",
    "    ancilla = QuantumRegister(1, name='anc')\n",
    "    qc = QuantumCircuit(inp_reg, ancilla)\n",
    "    qc.h(inp_reg[1])  \n",
    "    qc.h(inp_reg[2])  \n",
    "    qc.x(ancilla[1])  \n",
    "    qc.draw('mpl')\n",
    "except Exception as e:\n",
    "    print(f\"Error: {e}\")"
   ]
  },
  {
   "cell_type": "markdown",
   "id": "935602a1-d501-4195-8359-ea41a770e1c5",
   "metadata": {},
   "source": [
    "As you can see, answer E results in an error and cannot be run."
   ]
  },
  {
   "cell_type": "markdown",
   "id": "512e5e67-7706-47a9-af21-724cc7b7cf43",
   "metadata": {
    "jp-MarkdownHeadingCollapsed": true,
    "tags": []
   },
   "source": [
    "### Answer F"
   ]
  },
  {
   "cell_type": "markdown",
   "id": "22bb676e-140f-4eb0-9462-6b33ecf2d04b",
   "metadata": {},
   "source": [
    "    qc.h(inp_reg)  \n",
    "    qc.h(inp_reg)  \n",
    "    qc.x(ancilla)  \n",
    "    qc.draw()  \n",
    "\n",
    "This would apply two $H$ gates to all of the `inp_reg` qubits, and an $X$ gate to the `ancilla` qubit.\n",
    "\n",
    "#### Let's take a closer look:"
   ]
  },
  {
   "cell_type": "code",
   "execution_count": null,
   "id": "909332e9-0d70-4686-9675-0c95a386d71e",
   "metadata": {},
   "outputs": [],
   "source": [
    "from qiskit import QuantumCircuit, QuantumRegister\n",
    "\n",
    "inp_reg = QuantumRegister(2, name='inp')\n",
    "ancilla = QuantumRegister(1, name='anc')\n",
    "qc = QuantumCircuit(inp_reg, ancilla)\n",
    "qc.h(inp_reg)  \n",
    "qc.h(inp_reg)  \n",
    "qc.x(ancilla) \n",
    "qc.draw('mpl')"
   ]
  },
  {
   "cell_type": "markdown",
   "id": "8e1a0977-dee2-4927-af62-84f0249f37a9",
   "metadata": {},
   "source": [
    "As you can see, answer F results in a circuit with too many $H$ gates."
   ]
  }
 ],
 "metadata": {
  "kernelspec": {
   "display_name": "Python 3 (ipykernel)",
   "language": "python",
   "name": "python3"
  },
  "language_info": {
   "codemirror_mode": {
    "name": "ipython",
    "version": 3
   },
   "file_extension": ".py",
   "mimetype": "text/x-python",
   "name": "python",
   "nbconvert_exporter": "python",
   "pygments_lexer": "ipython3",
   "version": "3.10.8"
  }
 },
 "nbformat": 4,
 "nbformat_minor": 5
}
