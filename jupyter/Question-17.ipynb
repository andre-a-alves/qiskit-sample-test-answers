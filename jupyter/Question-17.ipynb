{
 "cells": [
  {
   "cell_type": "markdown",
   "id": "3af02558-9cfb-4490-a614-18fa834b2f04",
   "metadata": {},
   "source": [
    "# Question 17\n",
    "\n",
    "#### Which line of code would assign a statevector simulator obect to the variable `backend`?"
   ]
  },
  {
   "cell_type": "markdown",
   "id": "11423c8f-1a34-43f6-bec7-4988fa7d991b",
   "metadata": {
    "tags": []
   },
   "source": [
    "## Answer Options\n",
    "\n",
    "**A.** `backend = BasicAer.StatevectorSimulatorPy()`  \n",
    "**B.** `backend = BasicAer.get_backend('statevector_simulator')`  \n",
    "**C.** `backend = BasicAer.StatevectorSimulatorPy().name()`  \n",
    "**D.** `backend = BasicAer.get_back('statevector_simulator')`  "
   ]
  },
  {
   "cell_type": "markdown",
   "id": "b0100e8a-2b3d-4cd9-bb93-37de00af7ef6",
   "metadata": {
    "jp-MarkdownHeadingCollapsed": true,
    "tags": []
   },
   "source": [
    "## Question Explanation"
   ]
  },
  {
   "cell_type": "markdown",
   "id": "e6ab0828-f175-4515-9f7d-43355fed38df",
   "metadata": {},
   "source": [
    "This question tests your familiarity assigning a simulator object.\n",
    "These objects, often called *backends*, are retrieved from a provider using the `get_backend()` method."
   ]
  },
  {
   "cell_type": "markdown",
   "id": "c9efafda-6d54-4abe-abd1-8f9ec59d4180",
   "metadata": {
    "jp-MarkdownHeadingCollapsed": true,
    "tags": []
   },
   "source": [
    "## References"
   ]
  },
  {
   "cell_type": "markdown",
   "id": "5ab7aaa0-4744-4eda-80c2-9273b4a04900",
   "metadata": {},
   "source": [
    "* [Qiskit BasicAer API](https://qiskit.org/documentation/apidoc/providers_basicaer.html#module-qiskit.providers.basicaer)"
   ]
  },
  {
   "cell_type": "markdown",
   "id": "5483029f-3803-4b75-a5e0-786ecfa15907",
   "metadata": {
    "jp-MarkdownHeadingCollapsed": true,
    "tags": []
   },
   "source": [
    "## Correct Answer"
   ]
  },
  {
   "cell_type": "markdown",
   "id": "336be34a-1cbf-4256-bf29-fceefd8ef050",
   "metadata": {},
   "source": [
    "**B.** `backend = BasicAer.get_backend('statevector_simulator')`  "
   ]
  },
  {
   "cell_type": "markdown",
   "id": "e2363f9b-5b8f-49f3-a090-f144e42b232a",
   "metadata": {
    "jp-MarkdownHeadingCollapsed": true,
    "tags": []
   },
   "source": [
    "## Answer Explanations"
   ]
  },
  {
   "cell_type": "markdown",
   "id": "3b22859d-45b6-460b-8394-69eaa490ce35",
   "metadata": {
    "jp-MarkdownHeadingCollapsed": true,
    "tags": []
   },
   "source": [
    "### Answer A"
   ]
  },
  {
   "cell_type": "markdown",
   "id": "9ef3e69e-81af-4949-9905-6a991dd084ef",
   "metadata": {
    "tags": []
   },
   "source": [
    "`backend = BasicAer.StatevectorSimulatorPy()`\n",
    "\n",
    "While there is a Class `StateVectorSimulatorPy()`, and the statevector simulator object that will ultimately be assigned to `backend` is an object of this Class, it is not an attribute of `BasicAer`.\n",
    "In other words, this is not how you would obtain an instance of that class.\n",
    "\n",
    "#### Let's take a closer look:"
   ]
  },
  {
   "cell_type": "code",
   "execution_count": 1,
   "id": "dc1866c8-2a62-450b-97c1-79b3dc4f3a47",
   "metadata": {
    "tags": []
   },
   "outputs": [
    {
     "name": "stdout",
     "output_type": "stream",
     "text": [
      "Exception thrown: 'BasicAerProvider' object has no attribute 'StatevectorSimulatorPy'\n"
     ]
    }
   ],
   "source": [
    "from qiskit import BasicAer\n",
    "\n",
    "try:\n",
    "    backend = BasicAer.StatevectorSimulatorPy()\n",
    "except Exception as e:\n",
    "    print(f\"Exception thrown: {e}\")"
   ]
  },
  {
   "cell_type": "markdown",
   "id": "f4b19d3b-db71-4161-861f-ced5648b6630",
   "metadata": {},
   "source": [
    "As you can see, answer A throws an error."
   ]
  },
  {
   "cell_type": "markdown",
   "id": "00136eb6-dfab-436f-8b2e-e098a4d88b00",
   "metadata": {
    "jp-MarkdownHeadingCollapsed": true,
    "tags": []
   },
   "source": [
    "### Answer B"
   ]
  },
  {
   "cell_type": "markdown",
   "id": "f71750b0-e1d5-44bf-b330-b242e59c759c",
   "metadata": {
    "tags": []
   },
   "source": [
    "`backend = BasicAer.get_backend('statevector_simulator')`\n",
    "\n",
    "This code fragment will obtain a statevector simulator object of Class `StatevectorSimulatorPy` from `BasicAer` and assigned it to variable `backend`.\n",
    "\n",
    "#### Let's take a closer look:"
   ]
  },
  {
   "cell_type": "code",
   "execution_count": 2,
   "id": "9fbe17ec-f8f3-4db3-a00a-7ca7203ae4d5",
   "metadata": {},
   "outputs": [],
   "source": [
    "from qiskit import BasicAer\n",
    "\n",
    "backend = BasicAer.get_backend(\"statevector_simulator\")"
   ]
  },
  {
   "cell_type": "markdown",
   "id": "da3bc480-33fb-4345-b821-39747d047ed6",
   "metadata": {},
   "source": [
    "As you can see, answer B assigns the correct object to `backend`."
   ]
  },
  {
   "cell_type": "markdown",
   "id": "e894ef46-6324-4b34-bd9c-3fa8cd150391",
   "metadata": {
    "jp-MarkdownHeadingCollapsed": true,
    "tags": []
   },
   "source": [
    "### Answer C"
   ]
  },
  {
   "cell_type": "markdown",
   "id": "01952036-25af-4f21-84e3-7bf8628d4cb8",
   "metadata": {},
   "source": [
    "`backend = BasicAer.StatevectorSimulatorPy().name()`  \n",
    "\n",
    "While there is a Class `StateVectorSimulatorPy()`, and the statevector simulator object that will ultimately be assigned to `backend` is an object of this Class, it is not an attribute of `BasicAer`.\n",
    "In other words, this is not how you would obtain an instance of that class.\n",
    "\n",
    "#### Let's take a closer look:"
   ]
  },
  {
   "cell_type": "code",
   "execution_count": 3,
   "id": "20ee2824-6568-4968-bbce-910737713986",
   "metadata": {
    "tags": []
   },
   "outputs": [
    {
     "name": "stdout",
     "output_type": "stream",
     "text": [
      "Exception thrown: 'BasicAerProvider' object has no attribute 'StatevectorSimulatorPy'\n"
     ]
    }
   ],
   "source": [
    "from qiskit import BasicAer\n",
    "\n",
    "try:\n",
    "    backend = BasicAer.StatevectorSimulatorPy().name()\n",
    "except Exception as e:\n",
    "    print(f\"Exception thrown: {e}\")"
   ]
  },
  {
   "cell_type": "markdown",
   "id": "41670744-4354-4f34-8b46-f71c27994ab4",
   "metadata": {},
   "source": [
    "As you can see, answer C throws an error."
   ]
  },
  {
   "cell_type": "markdown",
   "id": "15afd510-0fb4-43fa-8caf-7f3ce5e1302e",
   "metadata": {
    "jp-MarkdownHeadingCollapsed": true,
    "tags": []
   },
   "source": [
    "### Answer D"
   ]
  },
  {
   "cell_type": "markdown",
   "id": "162e7c30-818a-4dd8-8c4e-4ff6a47dc3d8",
   "metadata": {},
   "source": [
    "`backend = BasicAer.get_back('statevector_simulator')`  \n",
    "\n",
    "`BasicAer` has no method `get_back()`.\n",
    "The correct method is `get_backend()`.\n",
    "\n",
    "#### Let's take a closer look:"
   ]
  },
  {
   "cell_type": "code",
   "execution_count": 4,
   "id": "f90493bd-a044-4813-9692-933fb33723c1",
   "metadata": {
    "tags": []
   },
   "outputs": [
    {
     "name": "stdout",
     "output_type": "stream",
     "text": [
      "Exception thrown: 'BasicAerProvider' object has no attribute 'get_back'\n"
     ]
    }
   ],
   "source": [
    "from qiskit import BasicAer\n",
    "\n",
    "try:\n",
    "    backend = BasicAer.get_back(\"statevector_simulator\")\n",
    "except Exception as e:\n",
    "    print(f\"Exception thrown: {e}\")"
   ]
  },
  {
   "cell_type": "markdown",
   "id": "a2611d56-3c8a-4839-b2a6-574f6188ff90",
   "metadata": {},
   "source": [
    "As you can see, answer D throws an error."
   ]
  }
 ],
 "metadata": {
  "kernelspec": {
   "display_name": "Python 3 (ipykernel)",
   "language": "python",
   "name": "python3"
  },
  "language_info": {
   "codemirror_mode": {
    "name": "ipython",
    "version": 3
   },
   "file_extension": ".py",
   "mimetype": "text/x-python",
   "name": "python",
   "nbconvert_exporter": "python",
   "pygments_lexer": "ipython3",
   "version": "3.10.8"
  }
 },
 "nbformat": 4,
 "nbformat_minor": 5
}
