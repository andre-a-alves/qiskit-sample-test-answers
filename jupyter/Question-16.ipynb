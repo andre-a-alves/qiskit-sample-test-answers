{
 "cells": [
  {
   "cell_type": "markdown",
   "id": "3af02558-9cfb-4490-a614-18fa834b2f04",
   "metadata": {},
   "source": [
    "# Question 16\n",
    "\n",
    "#### Which three simulators are available in BasicAer?\n"
   ]
  },
  {
   "cell_type": "markdown",
   "id": "11423c8f-1a34-43f6-bec7-4988fa7d991b",
   "metadata": {
    "tags": []
   },
   "source": [
    "## Answer Options\n",
    "\n",
    "**A.** `qasm_simulator`  \n",
    "**B.** `basic_qasm_simulator`  \n",
    "**C.** `statevector_simulator`  \n",
    "**D.** `unitary_simulator`  \n",
    "**E.** `quantum_simulator`  \n",
    "**F.** `quantum_circuit_simulator`  "
   ]
  },
  {
   "cell_type": "markdown",
   "id": "b0100e8a-2b3d-4cd9-bb93-37de00af7ef6",
   "metadata": {
    "jp-MarkdownHeadingCollapsed": true,
    "tags": []
   },
   "source": [
    "## Question Explanation"
   ]
  },
  {
   "cell_type": "markdown",
   "id": "e6ab0828-f175-4515-9f7d-43355fed38df",
   "metadata": {},
   "source": [
    "`BasicAer` is the old version of the backend provider `Aer`, and it offers less backend options than `Aer`.\n",
    "This question checks that you know which simulators are contained within the provider."
   ]
  },
  {
   "cell_type": "markdown",
   "id": "c9efafda-6d54-4abe-abd1-8f9ec59d4180",
   "metadata": {
    "jp-MarkdownHeadingCollapsed": true,
    "tags": []
   },
   "source": [
    "## References"
   ]
  },
  {
   "cell_type": "markdown",
   "id": "5ab7aaa0-4744-4eda-80c2-9273b4a04900",
   "metadata": {},
   "source": [
    "* [Qiskit BasicAer API](https://qiskit.org/documentation/apidoc/providers_basicaer.html#module-qiskit.providers.basicaer)"
   ]
  },
  {
   "cell_type": "markdown",
   "id": "5483029f-3803-4b75-a5e0-786ecfa15907",
   "metadata": {
    "tags": []
   },
   "source": [
    "## Correct Answers"
   ]
  },
  {
   "cell_type": "markdown",
   "id": "336be34a-1cbf-4256-bf29-fceefd8ef050",
   "metadata": {},
   "source": [
    "**A.** `qasm_simulator`  \n",
    "**C.** `statevector_simulator`  \n",
    "**D.** `unitary_simulator`  "
   ]
  },
  {
   "cell_type": "markdown",
   "id": "e2363f9b-5b8f-49f3-a090-f144e42b232a",
   "metadata": {
    "tags": []
   },
   "source": [
    "## Answer Explanation"
   ]
  },
  {
   "cell_type": "code",
   "execution_count": 1,
   "id": "5fc7a167-dbd7-48bd-8966-5e38028a7747",
   "metadata": {
    "tags": []
   },
   "outputs": [],
   "source": [
    "from qiskit import BasicAer"
   ]
  },
  {
   "cell_type": "markdown",
   "id": "9ef3e69e-81af-4949-9905-6a991dd084ef",
   "metadata": {
    "tags": []
   },
   "source": [
    "To verify the answer to this question, we can just print out a list of the backends contained in BasicAer."
   ]
  },
  {
   "cell_type": "code",
   "execution_count": 2,
   "id": "4b3d849b-9708-44af-bcb5-29953d8f61e2",
   "metadata": {
    "tags": []
   },
   "outputs": [
    {
     "name": "stdout",
     "output_type": "stream",
     "text": [
      "qasm_simulator\n",
      "statevector_simulator\n",
      "unitary_simulator\n"
     ]
    }
   ],
   "source": [
    "for backend in BasicAer.backends():\n",
    "    print(backend)"
   ]
  },
  {
   "cell_type": "markdown",
   "id": "8516f6d4-ff98-4722-ad34-054497c90e5c",
   "metadata": {},
   "source": [
    "As you can see, these are the available backends for `BasicAer`."
   ]
  }
 ],
 "metadata": {
  "kernelspec": {
   "display_name": "Python 3 (ipykernel)",
   "language": "python",
   "name": "python3"
  },
  "language_info": {
   "codemirror_mode": {
    "name": "ipython",
    "version": 3
   },
   "file_extension": ".py",
   "mimetype": "text/x-python",
   "name": "python",
   "nbconvert_exporter": "python",
   "pygments_lexer": "ipython3",
   "version": "3.10.6"
  }
 },
 "nbformat": 4,
 "nbformat_minor": 5
}
