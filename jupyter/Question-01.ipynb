{
 "cells": [
  {
   "cell_type": "markdown",
   "id": "3af02558-9cfb-4490-a614-18fa834b2f04",
   "metadata": {},
   "source": [
    "# Question 1\n",
    "\n",
    "#### Which statement will create a quantum circuit with four quantum bits and four classical bits?"
   ]
  },
  {
   "cell_type": "markdown",
   "id": "11423c8f-1a34-43f6-bec7-4988fa7d991b",
   "metadata": {
    "tags": []
   },
   "source": [
    "## Answer Options\n",
    "\n",
    "**A.** `QuantumCircuit(4, 4)`  \n",
    "**B.** `QuantumCircuit(4)`  \n",
    "**C.** `QuantumCircuit(QuantumRegister(4, ‘qro’), QuantumRegister(4, ‘cr1’))`  \n",
    "**D.** `QuantumCircuit([4, 4])`  "
   ]
  },
  {
   "cell_type": "markdown",
   "id": "b0100e8a-2b3d-4cd9-bb93-37de00af7ef6",
   "metadata": {
    "jp-MarkdownHeadingCollapsed": true,
    "tags": []
   },
   "source": [
    "## Question Explanation"
   ]
  },
  {
   "cell_type": "markdown",
   "id": "04dedaf1-ea29-4c9b-b376-8b071131b870",
   "metadata": {},
   "source": [
    "When creating a `QuantumCircuit`, you may choose from the following paramaters to pass to the constructor:\n",
    "* A list of registers that will make up the circuit\n",
    "* A list of integers stating how many quantum and/or classical bits to include in the circuit\n",
    "* A list of Python lists containing Bit objects (either Qubit or CBit objects)\n"
   ]
  },
  {
   "cell_type": "markdown",
   "id": "c9efafda-6d54-4abe-abd1-8f9ec59d4180",
   "metadata": {
    "jp-MarkdownHeadingCollapsed": true,
    "tags": []
   },
   "source": [
    "## References"
   ]
  },
  {
   "cell_type": "markdown",
   "id": "fc381ab7-7bd0-426f-9b14-fbc73886973e",
   "metadata": {},
   "source": [
    "* [Qiskit QuantumCircuit API](https://qiskit.org/documentation/stubs/qiskit.circuit.QuantumCircuit.html?highlight=quantumcircuit#qiskit.circuit.QuantumCircuit)"
   ]
  },
  {
   "cell_type": "markdown",
   "id": "5483029f-3803-4b75-a5e0-786ecfa15907",
   "metadata": {
    "jp-MarkdownHeadingCollapsed": true,
    "tags": []
   },
   "source": [
    "## Correct Answer"
   ]
  },
  {
   "cell_type": "markdown",
   "id": "336be34a-1cbf-4256-bf29-fceefd8ef050",
   "metadata": {},
   "source": [
    "**A.** `QuantumCircuit(4, 4)`  "
   ]
  },
  {
   "cell_type": "markdown",
   "id": "e2363f9b-5b8f-49f3-a090-f144e42b232a",
   "metadata": {
    "jp-MarkdownHeadingCollapsed": true,
    "tags": []
   },
   "source": [
    "## Answer Explanations"
   ]
  },
  {
   "cell_type": "markdown",
   "id": "fc3b9c54-5b88-45b4-8331-cf9fe3f9fb76",
   "metadata": {
    "jp-MarkdownHeadingCollapsed": true,
    "tags": []
   },
   "source": [
    "### Imports"
   ]
  },
  {
   "cell_type": "code",
   "execution_count": 1,
   "id": "7929dd11-bdf6-417b-9905-e1b8ca63c192",
   "metadata": {},
   "outputs": [],
   "source": [
    "from qiskit import QuantumCircuit, QuantumRegister\n",
    "from qiskit.visualization import circuit_drawer"
   ]
  },
  {
   "cell_type": "markdown",
   "id": "cd94756f-b89b-4da7-ad80-c5e2a3a58eae",
   "metadata": {
    "jp-MarkdownHeadingCollapsed": true,
    "tags": []
   },
   "source": [
    "### Overall Explanation"
   ]
  },
  {
   "cell_type": "markdown",
   "id": "f8a586d7-4067-4d76-aec3-96dd6ec2cb59",
   "metadata": {},
   "source": []
  },
  {
   "cell_type": "markdown",
   "id": "3b22859d-45b6-460b-8394-69eaa490ce35",
   "metadata": {
    "jp-MarkdownHeadingCollapsed": true,
    "tags": []
   },
   "source": [
    "### Answer A"
   ]
  },
  {
   "cell_type": "markdown",
   "id": "9ef3e69e-81af-4949-9905-6a991dd084ef",
   "metadata": {
    "tags": []
   },
   "source": [
    "```python\n",
    "QuantumCircuit(4, 4)\n",
    "```\n",
    "\n",
    "This is a valid constructor for a QuantumCircuit, because it passes two integer numbers: one representing the number of qubits, and another for the number of classical bits.\n",
    "With four qubits and four classical bits, this is the correct answer.\n",
    "\n",
    "Let's take a closer look:"
   ]
  },
  {
   "cell_type": "code",
   "execution_count": 2,
   "id": "dc1866c8-2a62-450b-97c1-79b3dc4f3a47",
   "metadata": {},
   "outputs": [
    {
     "data": {
      "image/png": "[encoded data removed]",
      "text/plain": [
       "<Figure size 162.08x451.5 with 1 Axes>"
      ]
     },
     "execution_count": 2,
     "metadata": {},
     "output_type": "execute_result"
    }
   ],
   "source": [
    "qc = QuantumCircuit(4, 4)\n",
    "qc.draw(\"mpl\")"
   ]
  },
  {
   "cell_type": "markdown",
   "id": "f4b19d3b-db71-4161-861f-ced5648b6630",
   "metadata": {},
   "source": [
    "As you can see, the resulting circuit has four qubits and four classical bits."
   ]
  },
  {
   "cell_type": "markdown",
   "id": "00136eb6-dfab-436f-8b2e-e098a4d88b00",
   "metadata": {
    "jp-MarkdownHeadingCollapsed": true,
    "tags": []
   },
   "source": [
    "### Answer B"
   ]
  },
  {
   "cell_type": "markdown",
   "id": "f71750b0-e1d5-44bf-b330-b242e59c759c",
   "metadata": {},
   "source": [
    "```python\n",
    "QuantumCircuit(4)\n",
    "```\n",
    "\n",
    "This is a valid constructor for a `QuantumCircuit`, because it passes an integer number representing the number of qubits.\n",
    "But by only creating a circuit with four qubits, there are no classical bits.\n",
    "\n",
    "Let's take a closer look:"
   ]
  },
  {
   "cell_type": "code",
   "execution_count": 3,
   "id": "9fbe17ec-f8f3-4db3-a00a-7ca7203ae4d5",
   "metadata": {},
   "outputs": [
    {
     "data": {
      "image/png": "[encoded data removed]",
      "text/plain": [
       "<Figure size 162.08x367.889 with 1 Axes>"
      ]
     },
     "execution_count": 3,
     "metadata": {},
     "output_type": "execute_result"
    }
   ],
   "source": [
    "qc = QuantumCircuit(4)\n",
    "qc.draw(\"mpl\")"
   ]
  },
  {
   "cell_type": "markdown",
   "id": "da3bc480-33fb-4345-b821-39747d047ed6",
   "metadata": {},
   "source": [
    "As you can see, the resulting circuit has four qubits but no classical bits."
   ]
  },
  {
   "cell_type": "markdown",
   "id": "e894ef46-6324-4b34-bd9c-3fa8cd150391",
   "metadata": {
    "jp-MarkdownHeadingCollapsed": true,
    "tags": []
   },
   "source": [
    "### Answer C"
   ]
  },
  {
   "cell_type": "markdown",
   "id": "01952036-25af-4f21-84e3-7bf8628d4cb8",
   "metadata": {},
   "source": [
    "```python\n",
    "QuantumCircuit(QuantumRegister(4, ‘qro’), QuantumRegister(4, ‘cr1’))\n",
    "```\n",
    "\n",
    "This is a valid constructor for a `QuantumCircuit` because it passes a list of registers.\n",
    "But in this case, the resulting circuit has eight qubits and no classical bits.\n",
    "\n",
    "Let's take a closer look:"
   ]
  },
  {
   "cell_type": "code",
   "execution_count": 4,
   "id": "20ee2824-6568-4968-bbce-910737713986",
   "metadata": {},
   "outputs": [
    {
     "data": {
      "image/png": "[encoded data removed]",
      "text/plain": [
       "<Figure size 191.724x702.333 with 1 Axes>"
      ]
     },
     "execution_count": 4,
     "metadata": {},
     "output_type": "execute_result"
    }
   ],
   "source": [
    "qc = QuantumCircuit(QuantumRegister(4, \"qro\"), QuantumRegister(4, \"cr1\"))\n",
    "qc.draw(\"mpl\")"
   ]
  },
  {
   "cell_type": "markdown",
   "id": "41670744-4354-4f34-8b46-f71c27994ab4",
   "metadata": {},
   "source": [
    "As you can see, the resulting circuit has eight qubits and no classical bits."
   ]
  },
  {
   "cell_type": "markdown",
   "id": "15afd510-0fb4-43fa-8caf-7f3ce5e1302e",
   "metadata": {
    "jp-MarkdownHeadingCollapsed": true,
    "tags": []
   },
   "source": [
    "### Answer D"
   ]
  },
  {
   "cell_type": "markdown",
   "id": "162e7c30-818a-4dd8-8c4e-4ff6a47dc3d8",
   "metadata": {
    "tags": []
   },
   "source": [
    "```python\n",
    "QuantumCircuit([4, 4])\n",
    "```\n",
    "\n",
    "This is not a valid constructor for a `QuantumCircuit`, because a Python list of integers is not a valid parameter.\n",
    "\n",
    "Let's take a closer look:"
   ]
  },
  {
   "cell_type": "code",
   "execution_count": 5,
   "id": "f90493bd-a044-4813-9692-933fb33723c1",
   "metadata": {
    "tags": []
   },
   "outputs": [
    {
     "name": "stdout",
     "output_type": "stream",
     "text": [
      "Error: 'Expected an instance of Qubit, Clbit, or AncillaQubit, but was passed 4'\n"
     ]
    }
   ],
   "source": [
    "try:\n",
    "    qc = QuantumCircuit([4, 4])\n",
    "    qc.draw(\"mpl\")\n",
    "except Exception as e:\n",
    "    print(f\"Error: {e}\")"
   ]
  },
  {
   "cell_type": "markdown",
   "id": "a2611d56-3c8a-4839-b2a6-574f6188ff90",
   "metadata": {},
   "source": [
    "As you can see, this is not a valid constructor call."
   ]
  }
 ],
 "metadata": {
  "kernelspec": {
   "display_name": "Python 3 (ipykernel)",
   "language": "python",
   "name": "python3"
  },
  "language_info": {
   "codemirror_mode": {
    "name": "ipython",
    "version": 3
   },
   "file_extension": ".py",
   "mimetype": "text/x-python",
   "name": "python",
   "nbconvert_exporter": "python",
   "pygments_lexer": "ipython3",
   "version": "3.10.6"
  }
 },
 "nbformat": 4,
 "nbformat_minor": 5
}
