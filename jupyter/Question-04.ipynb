{
 "cells": [
  {
   "cell_type": "markdown",
   "id": "3af02558-9cfb-4490-a614-18fa834b2f04",
   "metadata": {},
   "source": [
    "# Question 4\n",
    "\n",
    "#### Given an empty `QuantumCircuit` object, `qc`, with three qubits and three classical bits, which one of these code fragments would create this circuit?\n",
    "\n",
    "<img alt=\"Quantum circuit\" src=\"data:image/png;base64,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\" />"
   ]
  },
  {
   "cell_type": "markdown",
   "id": "11423c8f-1a34-43f6-bec7-4988fa7d991b",
   "metadata": {
    "tags": []
   },
   "source": [
    "## Answer Options\n",
    "\n",
    "**A.** `qc.measure([0,1,2], [0,1,2])`  \n",
    "**B.** `qc.measure([0,0], [1,1], [2,2])`  \n",
    "**C.** `qc.measure_all()`  \n",
    "**D.** `qc.measure(0,1,2)`"
   ]
  },
  {
   "cell_type": "markdown",
   "id": "b0100e8a-2b3d-4cd9-bb93-37de00af7ef6",
   "metadata": {
    "jp-MarkdownHeadingCollapsed": true,
    "tags": []
   },
   "source": [
    "## Question Explanation"
   ]
  },
  {
   "cell_type": "markdown",
   "id": "e6ab0828-f175-4515-9f7d-43355fed38df",
   "metadata": {},
   "source": [
    "This question requires knowledge of both the `QuantumCircuit.measure()` method and the `QuantumCircuit.measure_all()` method.\n",
    "The `measure()` method receives two parameters: an integer or a list with the integers of qubits to be measured, and an integer or a list of integers with the classical bits to receive the measurements.\n",
    "The `measure_all()` method will measure every qubit, but it will create a new classical bit for each measurement unless passed the parameter `add_bits=False`."
   ]
  },
  {
   "cell_type": "markdown",
   "id": "c9efafda-6d54-4abe-abd1-8f9ec59d4180",
   "metadata": {
    "jp-MarkdownHeadingCollapsed": true,
    "tags": []
   },
   "source": [
    "## References"
   ]
  },
  {
   "cell_type": "markdown",
   "id": "5ab7aaa0-4744-4eda-80c2-9273b4a04900",
   "metadata": {},
   "source": [
    "* [Qiskit QuantumCircuit.measure() API](https://qiskit.org/documentation/stubs/qiskit.circuit.QuantumCircuit.measure.html#qiskit.circuit.QuantumCircuit.measure)   \n",
    "* [Qiskit QuantumCircuit.measure_all() API](https://qiskit.org/documentation/stubs/qiskit.circuit.QuantumCircuit.measure_all.html#qiskit.circuit.QuantumCircuit.measure_all)   "
   ]
  },
  {
   "cell_type": "markdown",
   "id": "5483029f-3803-4b75-a5e0-786ecfa15907",
   "metadata": {
    "jp-MarkdownHeadingCollapsed": true,
    "tags": []
   },
   "source": [
    "## Correct Answer"
   ]
  },
  {
   "cell_type": "markdown",
   "id": "336be34a-1cbf-4256-bf29-fceefd8ef050",
   "metadata": {},
   "source": [
    "**A.** `qc.measure([0,1,2], [0,1,2])`"
   ]
  },
  {
   "cell_type": "markdown",
   "id": "e2363f9b-5b8f-49f3-a090-f144e42b232a",
   "metadata": {
    "jp-MarkdownHeadingCollapsed": true,
    "tags": []
   },
   "source": [
    "## Answer Explanations"
   ]
  },
  {
   "cell_type": "markdown",
   "id": "c91fa541-a401-42f9-83e6-10dd18e5f2cc",
   "metadata": {
    "jp-MarkdownHeadingCollapsed": true,
    "tags": []
   },
   "source": [
    "### Imports"
   ]
  },
  {
   "cell_type": "code",
   "execution_count": 1,
   "id": "dc2225e8-4e66-4f4f-81bb-90bf5fc74710",
   "metadata": {},
   "outputs": [],
   "source": [
    "from qiskit import QuantumCircuit"
   ]
  },
  {
   "cell_type": "markdown",
   "id": "fef5796c-a84b-44bb-ba3b-1295a92f5667",
   "metadata": {
    "jp-MarkdownHeadingCollapsed": true,
    "tags": []
   },
   "source": [
    "### Overall Explanation"
   ]
  },
  {
   "cell_type": "markdown",
   "id": "f7ab3636-e7d3-4738-8970-65f1fd5fc9a1",
   "metadata": {},
   "source": []
  },
  {
   "cell_type": "markdown",
   "id": "3b22859d-45b6-460b-8394-69eaa490ce35",
   "metadata": {
    "jp-MarkdownHeadingCollapsed": true,
    "tags": []
   },
   "source": [
    "### Answer A"
   ]
  },
  {
   "cell_type": "markdown",
   "id": "9ef3e69e-81af-4949-9905-6a991dd084ef",
   "metadata": {},
   "source": [
    "`qc.measure([0,1,2], [0,1,2])`\n",
    "\n",
    "This will measure qubit 0 on classical bit 0, qubit 1 on classical bit 1, and qubit 2 on classical bit 2.\n",
    "\n",
    "#### Let's take a closer look:"
   ]
  },
  {
   "cell_type": "code",
   "execution_count": 2,
   "id": "dc1866c8-2a62-450b-97c1-79b3dc4f3a47",
   "metadata": {},
   "outputs": [
    {
     "data": {
      "image/png": "[encoded data removed]",
      "text/plain": [
       "<Figure size 371.107x367.889 with 1 Axes>"
      ]
     },
     "execution_count": 2,
     "metadata": {},
     "output_type": "execute_result"
    }
   ],
   "source": [
    "qc = QuantumCircuit(3, 3)\n",
    "qc.measure([0, 1, 2], [0, 1, 2])\n",
    "qc.draw(\"mpl\")"
   ]
  },
  {
   "cell_type": "markdown",
   "id": "f4b19d3b-db71-4161-861f-ced5648b6630",
   "metadata": {},
   "source": [
    "As you can see, answer A creates the correct circuit."
   ]
  },
  {
   "cell_type": "markdown",
   "id": "00136eb6-dfab-436f-8b2e-e098a4d88b00",
   "metadata": {
    "jp-MarkdownHeadingCollapsed": true,
    "tags": []
   },
   "source": [
    "### Answer B"
   ]
  },
  {
   "cell_type": "markdown",
   "id": "f71750b0-e1d5-44bf-b330-b242e59c759c",
   "metadata": {
    "tags": []
   },
   "source": [
    "`qc.measure([0,0], [1,1], [2,2])`\n",
    "\n",
    "This is improper syntax; `measure()` cannot receive three parameters.\n",
    "This code fragment will result in an error.\n",
    "\n",
    "#### Let's take a closer look:"
   ]
  },
  {
   "cell_type": "code",
   "execution_count": 3,
   "id": "9fbe17ec-f8f3-4db3-a00a-7ca7203ae4d5",
   "metadata": {
    "tags": []
   },
   "outputs": [
    {
     "name": "stdout",
     "output_type": "stream",
     "text": [
      "Error: QuantumCircuit.measure() takes 3 positional arguments but 4 were given\n"
     ]
    }
   ],
   "source": [
    "try:\n",
    "    qc = QuantumCircuit(3, 3)\n",
    "    qc.measure([0, 0], [1, 1], [2, 2])\n",
    "    qc.draw(\"mpl\")\n",
    "except Exception as e:\n",
    "    print(f\"Error: {e}\")"
   ]
  },
  {
   "cell_type": "markdown",
   "id": "da3bc480-33fb-4345-b821-39747d047ed6",
   "metadata": {},
   "source": [
    "As you can see, answer B raises and error and cannot be run."
   ]
  },
  {
   "cell_type": "markdown",
   "id": "e894ef46-6324-4b34-bd9c-3fa8cd150391",
   "metadata": {
    "jp-MarkdownHeadingCollapsed": true,
    "tags": []
   },
   "source": [
    "### Answer C"
   ]
  },
  {
   "cell_type": "markdown",
   "id": "01952036-25af-4f21-84e3-7bf8628d4cb8",
   "metadata": {},
   "source": [
    "`qc.measure_all()`\n",
    "\n",
    "This will add new classical bits to store the measurements.\n",
    "\n",
    "#### Let's take a closer look:"
   ]
  },
  {
   "cell_type": "code",
   "execution_count": 4,
   "id": "20ee2824-6568-4968-bbce-910737713986",
   "metadata": {},
   "outputs": [
    {
     "data": {
      "image/png": "[encoded data removed]",
      "text/plain": [
       "<Figure size 496.776x451.5 with 1 Axes>"
      ]
     },
     "execution_count": 4,
     "metadata": {},
     "output_type": "execute_result"
    }
   ],
   "source": [
    "qc = QuantumCircuit(3, 3)\n",
    "qc.measure_all()\n",
    "qc.draw(\"mpl\")"
   ]
  },
  {
   "cell_type": "markdown",
   "id": "41670744-4354-4f34-8b46-f71c27994ab4",
   "metadata": {},
   "source": [
    "As you can see, answer C generates new classical bits, causing the circuit to be different from the circuit shown in the question."
   ]
  },
  {
   "cell_type": "markdown",
   "id": "15afd510-0fb4-43fa-8caf-7f3ce5e1302e",
   "metadata": {
    "jp-MarkdownHeadingCollapsed": true,
    "tags": []
   },
   "source": [
    "### Answer D"
   ]
  },
  {
   "cell_type": "markdown",
   "id": "162e7c30-818a-4dd8-8c4e-4ff6a47dc3d8",
   "metadata": {},
   "source": [
    "`qc.measure(0,1,2)`\n",
    "\n",
    "This is improper syntax; `measure()` cannot receive three parameters.\n",
    "This code fragment will result in an error.\n",
    "\n",
    "#### Let's take a closer look:"
   ]
  },
  {
   "cell_type": "code",
   "execution_count": 5,
   "id": "f90493bd-a044-4813-9692-933fb33723c1",
   "metadata": {
    "tags": []
   },
   "outputs": [
    {
     "name": "stdout",
     "output_type": "stream",
     "text": [
      "Error: QuantumCircuit.measure() takes 3 positional arguments but 4 were given\n"
     ]
    }
   ],
   "source": [
    "try:\n",
    "    qc = QuantumCircuit(3, 3)\n",
    "    qc.measure(0, 1, 2)\n",
    "    qc.draw(\"mpl\")\n",
    "except Exception as e:\n",
    "    print(f\"Error: {e}\")"
   ]
  },
  {
   "cell_type": "markdown",
   "id": "a2611d56-3c8a-4839-b2a6-574f6188ff90",
   "metadata": {},
   "source": [
    "As you can see, answer D raises and error and cannot be run."
   ]
  }
 ],
 "metadata": {
  "kernelspec": {
   "display_name": "Python 3 (ipykernel)",
   "language": "python",
   "name": "python3"
  },
  "language_info": {
   "codemirror_mode": {
    "name": "ipython",
    "version": 3
   },
   "file_extension": ".py",
   "mimetype": "text/x-python",
   "name": "python",
   "nbconvert_exporter": "python",
   "pygments_lexer": "ipython3",
   "version": "3.10.6"
  }
 },
 "nbformat": 4,
 "nbformat_minor": 5
}
