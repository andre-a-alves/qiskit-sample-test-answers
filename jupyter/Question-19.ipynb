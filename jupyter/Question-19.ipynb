{
 "cells": [
  {
   "cell_type": "markdown",
   "id": "3af02558-9cfb-4490-a614-18fa834b2f04",
   "metadata": {},
   "source": [
    "# Question 19\n",
    "\n",
    "#### What would be the fidelity result(s) for these two operators, which differ only by global phase?\n",
    "```python\n",
    "    op_a = Operator(XGate())\n",
    "    op_b = numpy.exp(1j * 0.5) * Operator(XGate())\n",
    "```"
   ]
  },
  {
   "cell_type": "markdown",
   "id": "11423c8f-1a34-43f6-bec7-4988fa7d991b",
   "metadata": {
    "tags": []
   },
   "source": [
    "## Answer Options\n",
    "\n",
    "**A.** `state_fidelity()` of 1.0  \n",
    "**B.** `state_fidelity()` and `average_gate_fidelity()` of 1.0  \n",
    "**C.** `average_gate_fidelity()` and `process_fidelity()` of 1.0  \n",
    "**D.** `state_fidelity()`, `average_gate_fidelity()` and `process_fidelity()` of 1.0 "
   ]
  },
  {
   "cell_type": "markdown",
   "id": "b0100e8a-2b3d-4cd9-bb93-37de00af7ef6",
   "metadata": {
    "jp-MarkdownHeadingCollapsed": true,
    "tags": []
   },
   "source": [
    "## Question Explanation"
   ]
  },
  {
   "cell_type": "markdown",
   "id": "e6ab0828-f175-4515-9f7d-43355fed38df",
   "metadata": {},
   "source": [
    "This question focusses on fidelity, which is a measure of how close two quantum states are to each other.\n",
    "State fidelity, measured by the `state_fidelity` function, measures the fidelity between two quantum states.\n",
    "Process fidelity, measured by the `process_fidelity` function, measures the fidelity within a quantum channel or operator, and thus measures the noise within that channel or operator.\n",
    "Average gate fidelity, measured by the `average_gate_fidelity` function, measures the fidelity of multiple gates within a quantum channel."
   ]
  },
  {
   "cell_type": "markdown",
   "id": "c9efafda-6d54-4abe-abd1-8f9ec59d4180",
   "metadata": {
    "jp-MarkdownHeadingCollapsed": true,
    "tags": []
   },
   "source": [
    "## References"
   ]
  },
  {
   "cell_type": "markdown",
   "id": "5ab7aaa0-4744-4eda-80c2-9273b4a04900",
   "metadata": {},
   "source": [
    "* [Qiskit state_fidelity() function API](https://qiskit.org/documentation/stubs/qiskit.quantum_info.state_fidelity.html)\n",
    "* [Qiskit average_gate_fidelity() function API](https://qiskit.org/documentation/stubs/qiskit.quantum_info.average_gate_fidelity.html)\n",
    "* [Qiskit process_fidelity() function API](https://qiskit.org/documentation/stubs/qiskit.quantum_info.average_gate_fidelity.html)"
   ]
  },
  {
   "cell_type": "markdown",
   "id": "5483029f-3803-4b75-a5e0-786ecfa15907",
   "metadata": {
    "jp-MarkdownHeadingCollapsed": true,
    "tags": []
   },
   "source": [
    "## Correct Answer"
   ]
  },
  {
   "cell_type": "markdown",
   "id": "336be34a-1cbf-4256-bf29-fceefd8ef050",
   "metadata": {},
   "source": [
    "**C.** `average_gate_fidelity()` and `process_fidelity()` of 1.0  "
   ]
  },
  {
   "cell_type": "markdown",
   "id": "e2363f9b-5b8f-49f3-a090-f144e42b232a",
   "metadata": {
    "jp-MarkdownHeadingCollapsed": true,
    "tags": []
   },
   "source": [
    "## Answer Explanation"
   ]
  },
  {
   "cell_type": "code",
   "execution_count": 1,
   "id": "f5d789a0-8fb7-4536-b89a-d7cfef2fae03",
   "metadata": {
    "tags": []
   },
   "outputs": [],
   "source": [
    "import numpy\n",
    "from qiskit import BasicAer, execute, QuantumCircuit\n",
    "from qiskit.circuit.library import XGate\n",
    "from qiskit.quantum_info import (\n",
    "    Operator,\n",
    "    process_fidelity,\n",
    "    state_fidelity,\n",
    "    average_gate_fidelity,\n",
    "    process_fidelity,\n",
    ")\n",
    "from qiskit.visualization import array_to_latex"
   ]
  },
  {
   "cell_type": "markdown",
   "id": "639939e7-90d6-4670-b338-d93b927d0820",
   "metadata": {},
   "source": [
    "First we begin by entering the given code to create the two operators themselves."
   ]
  },
  {
   "cell_type": "code",
   "execution_count": 2,
   "id": "4e7587ff-bac2-4917-be91-b1ea0c492eb5",
   "metadata": {
    "tags": []
   },
   "outputs": [],
   "source": [
    "op_a = Operator(XGate())\n",
    "op_b = numpy.exp(1j * 0.5) * Operator(XGate())"
   ]
  },
  {
   "cell_type": "markdown",
   "id": "92deb54e-0aa4-486a-a330-4da9b2ff3863",
   "metadata": {},
   "source": [
    "Next, we look at the first operator `op_a`."
   ]
  },
  {
   "cell_type": "code",
   "execution_count": 3,
   "id": "d0222355-6ef0-479d-8fca-90ddc7e1cb95",
   "metadata": {
    "tags": []
   },
   "outputs": [
    {
     "data": {
      "text/latex": [
       "$$\n",
       "op_a: \n",
       "\\begin{bmatrix}\n",
       "0 & 1  \\\\\n",
       " 1 & 0  \\\\\n",
       " \\end{bmatrix}\n",
       "$$"
      ],
      "text/plain": [
       "<IPython.core.display.Latex object>"
      ]
     },
     "execution_count": 3,
     "metadata": {},
     "output_type": "execute_result"
    }
   ],
   "source": [
    "array_to_latex(op_a, prefix=\"op_a: \")"
   ]
  },
  {
   "cell_type": "markdown",
   "id": "bb4cdd7c-6d19-4920-8417-c2dccfb7448d",
   "metadata": {},
   "source": [
    "Followed by the second operator `op_b`."
   ]
  },
  {
   "cell_type": "code",
   "execution_count": 4,
   "id": "7472b640-22bd-4df3-9ff9-6e2caee4a413",
   "metadata": {
    "tags": []
   },
   "outputs": [
    {
     "data": {
      "text/latex": [
       "$$\n",
       "op_b: \n",
       "\\begin{bmatrix}\n",
       "0 & 0.8775825619 + 0.4794255386 i  \\\\\n",
       " 0.8775825619 + 0.4794255386 i & 0  \\\\\n",
       " \\end{bmatrix}\n",
       "$$"
      ],
      "text/plain": [
       "<IPython.core.display.Latex object>"
      ]
     },
     "execution_count": 4,
     "metadata": {},
     "output_type": "execute_result"
    }
   ],
   "source": [
    "array_to_latex(op_b, prefix=\"op_b: \")"
   ]
  },
  {
   "cell_type": "markdown",
   "id": "4a990fd1-fdf2-4879-b26a-a491c4f8b6ac",
   "metadata": {
    "jp-MarkdownHeadingCollapsed": true,
    "tags": []
   },
   "source": [
    "### 1. `state_fidelity()`"
   ]
  },
  {
   "cell_type": "markdown",
   "id": "c999d226-cb34-4a8c-bfaf-9cbc4b7db10b",
   "metadata": {},
   "source": [
    "This is a trick question.\n",
    "We cannot measure the state fidelity between the two operators, because they do not have states.\n",
    "If we try to obtain the state fidelity, Qiskit will throw an error."
   ]
  },
  {
   "cell_type": "code",
   "execution_count": 5,
   "id": "a8c3561a-ed07-439e-acb2-8f3e9793bcc4",
   "metadata": {
    "tags": []
   },
   "outputs": [
    {
     "name": "stdout",
     "output_type": "stream",
     "text": [
      "Exception thrown: 'Input is not a quantum state'\n"
     ]
    }
   ],
   "source": [
    "try:\n",
    "    state_fidelity(op_a, op_b)\n",
    "except Exception as e:\n",
    "    print(f\"Exception thrown: {e}\")"
   ]
  },
  {
   "cell_type": "markdown",
   "id": "1913a51e-e566-4c0b-bbd1-084b1ea6af6a",
   "metadata": {},
   "source": [
    "Even though we know we cannot obtain the state fidelity of the operators, just for fun we will obtain the state fidelity between two circuit that implement those operators.\n",
    "However, it is important you first understand `state_vector` will not return a value, therefore it is undefined when it comes to answering the question.\n",
    "\n",
    "To get a state fidelity, we created two `QuantumCircuit` objects and add the operators as `Instruction` objects."
   ]
  },
  {
   "cell_type": "code",
   "execution_count": 6,
   "id": "623e93dc-5e88-4b91-81f0-95ed25ad13c8",
   "metadata": {
    "tags": []
   },
   "outputs": [],
   "source": [
    "# Build our circuits\n",
    "qc_a = QuantumCircuit(1)\n",
    "qc_b = QuantumCircuit(1)\n",
    "\n",
    "# Convert our operators to instructions\n",
    "inst_a = op_a.to_instruction()\n",
    "inst_b = op_b.to_instruction()\n",
    "\n",
    "# Add the instructions to the circuits\n",
    "qc_a.append(inst_a, qargs=[0])\n",
    "qc_b.append(inst_b, qargs=[0])\n",
    "\n",
    "# obtains state vectors for each circuit\n",
    "state_a = (\n",
    "    execute(qc_a, BasicAer.get_backend(\"statevector_simulator\"))\n",
    "    .result()\n",
    "    .get_statevector(qc_a)\n",
    ")\n",
    "state_b = (\n",
    "    execute(qc_b, BasicAer.get_backend(\"statevector_simulator\"))\n",
    "    .result()\n",
    "    .get_statevector(qc_b)\n",
    ")"
   ]
  },
  {
   "cell_type": "markdown",
   "id": "b8a10fd0-bbb6-4a46-a31c-e314d30daa42",
   "metadata": {},
   "source": [
    "Then we can look at the state of the first circuit."
   ]
  },
  {
   "cell_type": "code",
   "execution_count": 7,
   "id": "f382b4b7-bde3-43cd-8d40-79338b5dbbcd",
   "metadata": {
    "tags": []
   },
   "outputs": [
    {
     "data": {
      "text/latex": [
       "$$\n",
       "|\\Psi_{a}\\rangle = \n",
       "\\begin{bmatrix}\n",
       "0 & 1  \\\\\n",
       " \\end{bmatrix}\n",
       "$$"
      ],
      "text/plain": [
       "<IPython.core.display.Latex object>"
      ]
     },
     "execution_count": 7,
     "metadata": {},
     "output_type": "execute_result"
    }
   ],
   "source": [
    "array_to_latex(state_a, prefix=\"|\\Psi_{a}\\\\rangle = \")"
   ]
  },
  {
   "cell_type": "markdown",
   "id": "6cc0cb7a-ad25-47a3-a05c-9e04a768913f",
   "metadata": {},
   "source": [
    "And we can look at the state of the second circuit."
   ]
  },
  {
   "cell_type": "code",
   "execution_count": 8,
   "id": "24a6d6c2-6a39-4af3-b832-27fe741ad0a0",
   "metadata": {
    "tags": []
   },
   "outputs": [
    {
     "data": {
      "text/latex": [
       "$$\n",
       "|\\Psi_{b}\\rangle = \n",
       "\\begin{bmatrix}\n",
       "0 & 0.8775825619 + 0.4794255386 i  \\\\\n",
       " \\end{bmatrix}\n",
       "$$"
      ],
      "text/plain": [
       "<IPython.core.display.Latex object>"
      ]
     },
     "execution_count": 8,
     "metadata": {},
     "output_type": "execute_result"
    }
   ],
   "source": [
    "array_to_latex(state_b, prefix=\"|\\Psi_{b}\\\\rangle = \")"
   ]
  },
  {
   "cell_type": "markdown",
   "id": "eda483b0-2041-4c7d-afab-a5975178cc23",
   "metadata": {},
   "source": [
    "Finally, we can obtain the `state_fidelity` between the states of these two circuits.\n",
    "However, remember once again that there is no state fidelity between operators."
   ]
  },
  {
   "cell_type": "code",
   "execution_count": 9,
   "id": "6c885e01-8465-49f0-8c8c-18f186ddbad2",
   "metadata": {
    "tags": []
   },
   "outputs": [
    {
     "data": {
      "text/plain": [
       "1.0"
      ]
     },
     "execution_count": 9,
     "metadata": {},
     "output_type": "execute_result"
    }
   ],
   "source": [
    "state_fidelity(state_a, state_b)"
   ]
  },
  {
   "cell_type": "markdown",
   "id": "5805284e-0072-424e-b9d8-bf913d05a433",
   "metadata": {
    "jp-MarkdownHeadingCollapsed": true,
    "tags": []
   },
   "source": [
    "### 2. `average_gate_fidelity()`"
   ]
  },
  {
   "cell_type": "markdown",
   "id": "6f7b743b-77dd-4407-b613-694d9876199d",
   "metadata": {},
   "source": [
    "To obtain the average gate fidelity between the two operators, we can just pass the two operators as parameters to the `average_gate_fidelity` function."
   ]
  },
  {
   "cell_type": "code",
   "execution_count": 10,
   "id": "4ffd7e24-7868-4246-a758-906b37f9fead",
   "metadata": {
    "tags": []
   },
   "outputs": [
    {
     "data": {
      "text/plain": [
       "1.0"
      ]
     },
     "execution_count": 10,
     "metadata": {},
     "output_type": "execute_result"
    }
   ],
   "source": [
    "average_gate_fidelity(op_a, target=op_b)"
   ]
  },
  {
   "cell_type": "markdown",
   "id": "01952a20-8398-4461-82b2-6e23f1fecea8",
   "metadata": {},
   "source": [
    "As you can see above, the `average_gate_fidelity` is 1."
   ]
  },
  {
   "cell_type": "markdown",
   "id": "32c46e6f-ce8d-4a13-8716-199d8e839200",
   "metadata": {
    "jp-MarkdownHeadingCollapsed": true,
    "tags": []
   },
   "source": [
    "### 3. `process_fidelity()`"
   ]
  },
  {
   "cell_type": "markdown",
   "id": "4944390b-c3cd-4b3f-9fd0-f5e3ba491c51",
   "metadata": {},
   "source": [
    "To obtain the process fidelity between the two operators, we can just pass the two operators as parameters to the `process_fidelity` function."
   ]
  },
  {
   "cell_type": "code",
   "execution_count": 11,
   "id": "6160fa6d-57a6-48d6-ad4b-8f95cd5f640d",
   "metadata": {
    "tags": []
   },
   "outputs": [
    {
     "data": {
      "text/plain": [
       "1.0"
      ]
     },
     "execution_count": 11,
     "metadata": {},
     "output_type": "execute_result"
    }
   ],
   "source": [
    "process_fidelity(op_a, target=op_b)"
   ]
  },
  {
   "cell_type": "markdown",
   "id": "0ca02692-8812-49fb-85dd-bfe2d0e56a41",
   "metadata": {},
   "source": [
    "As you can see above, the `process_fidelity` is 1."
   ]
  }
 ],
 "metadata": {
  "kernelspec": {
   "display_name": "Python 3 (ipykernel)",
   "language": "python",
   "name": "python3"
  },
  "language_info": {
   "codemirror_mode": {
    "name": "ipython",
    "version": 3
   },
   "file_extension": ".py",
   "mimetype": "text/x-python",
   "name": "python",
   "nbconvert_exporter": "python",
   "pygments_lexer": "ipython3",
   "version": "3.10.6"
  }
 },
 "nbformat": 4,
 "nbformat_minor": 5
}
