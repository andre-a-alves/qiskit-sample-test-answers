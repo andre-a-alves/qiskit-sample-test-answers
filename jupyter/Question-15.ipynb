{
 "cells": [
  {
   "cell_type": "markdown",
   "id": "3af02558-9cfb-4490-a614-18fa834b2f04",
   "metadata": {},
   "source": [
    "# Question 15\n",
    "\n",
    "#### Which of these would execute a circuit on a set of qubits which are coupled in a custom way?\n",
    "```python\n",
    "    from qiskit import QuantumCircuit, execute, BasicAer\n",
    "    backend = BasicAer.get_backend('qasm_simulator')\n",
    "    qc = QuantumCircuit(3)\n",
    "\n",
    "    # insert code here\n",
    "```"
   ]
  },
  {
   "cell_type": "markdown",
   "id": "11423c8f-1a34-43f6-bec7-4988fa7d991b",
   "metadata": {
    "tags": []
   },
   "source": [
    "## Answer Options\n",
    "\n",
    "**A.** `execute(qc, backend, shots=1024, coupling_map=[[0,1], [1,2]])`  \n",
    "**B.** `execute(qc, backend, shots=1024, custom_topology=[[0,1],[2,3]])`  \n",
    "**C.** `execute(qc, backend, shots=1024, device=\"qasm_simulator\", mode=\"custom\")`  \n",
    "**D.** `execute(qc, backend, mode=\"custom\")`  "
   ]
  },
  {
   "cell_type": "markdown",
   "id": "b0100e8a-2b3d-4cd9-bb93-37de00af7ef6",
   "metadata": {
    "jp-MarkdownHeadingCollapsed": true,
    "tags": []
   },
   "source": [
    "## Question Explanation"
   ]
  },
  {
   "cell_type": "markdown",
   "id": "e6ab0828-f175-4515-9f7d-43355fed38df",
   "metadata": {},
   "source": [
    "This question tests your familiarity with the `execute()` function and defining a custom coupling map."
   ]
  },
  {
   "cell_type": "markdown",
   "id": "c9efafda-6d54-4abe-abd1-8f9ec59d4180",
   "metadata": {
    "jp-MarkdownHeadingCollapsed": true,
    "tags": []
   },
   "source": [
    "## References"
   ]
  },
  {
   "cell_type": "markdown",
   "id": "5ab7aaa0-4744-4eda-80c2-9273b4a04900",
   "metadata": {},
   "source": [
    "* [Qiskit execute() Function API](https://qiskit.org/documentation/apidoc/execute.html?highlight=execute#qiskit.execute_function.execute)"
   ]
  },
  {
   "cell_type": "markdown",
   "id": "5483029f-3803-4b75-a5e0-786ecfa15907",
   "metadata": {
    "jp-MarkdownHeadingCollapsed": true,
    "tags": []
   },
   "source": [
    "## Correct Answer"
   ]
  },
  {
   "cell_type": "markdown",
   "id": "336be34a-1cbf-4256-bf29-fceefd8ef050",
   "metadata": {},
   "source": [
    "**A.** `execute(qc, backend, shots=1024, coupling_map=[[0,1], [1,2]])`"
   ]
  },
  {
   "cell_type": "markdown",
   "id": "e2363f9b-5b8f-49f3-a090-f144e42b232a",
   "metadata": {
    "jp-MarkdownHeadingCollapsed": true,
    "tags": []
   },
   "source": [
    "## Answer Explanations"
   ]
  },
  {
   "cell_type": "markdown",
   "id": "569df018-205f-4edb-9186-4460dd088b16",
   "metadata": {
    "jp-MarkdownHeadingCollapsed": true,
    "tags": []
   },
   "source": [
    "### Imports"
   ]
  },
  {
   "cell_type": "code",
   "execution_count": 1,
   "id": "f0f1bf27-db23-4bbb-8d3d-36f321c522ee",
   "metadata": {
    "tags": []
   },
   "outputs": [],
   "source": [
    "import warnings\n",
    "\n",
    "warnings.filterwarnings(\"error\")\n",
    "\n",
    "from qiskit import QuantumCircuit, execute, BasicAer"
   ]
  },
  {
   "cell_type": "markdown",
   "id": "f97bce8d-417d-450c-94ad-9a1053fc7772",
   "metadata": {
    "jp-MarkdownHeadingCollapsed": true,
    "tags": []
   },
   "source": [
    "### Overall Explanation"
   ]
  },
  {
   "cell_type": "markdown",
   "id": "180895c8-b973-46a0-9c16-2d95f3692020",
   "metadata": {},
   "source": []
  },
  {
   "cell_type": "markdown",
   "id": "3b22859d-45b6-460b-8394-69eaa490ce35",
   "metadata": {
    "jp-MarkdownHeadingCollapsed": true,
    "tags": []
   },
   "source": [
    "### Answer A"
   ]
  },
  {
   "cell_type": "markdown",
   "id": "9ef3e69e-81af-4949-9905-6a991dd084ef",
   "metadata": {
    "tags": []
   },
   "source": [
    "`execute(qc, backend, shots=1024, coupling_map=[[0,1], [1,2]])`\n",
    "\n",
    "This code fragment properly passes positional parameter before keyword arguments, and it also passes a custom coupling map using the `coupling_map=` parameter.\n",
    "\n",
    "#### Let's take a closer look:"
   ]
  },
  {
   "cell_type": "code",
   "execution_count": 2,
   "id": "dc1866c8-2a62-450b-97c1-79b3dc4f3a47",
   "metadata": {
    "tags": []
   },
   "outputs": [
    {
     "name": "stderr",
     "output_type": "stream",
     "text": [
      "No classical registers in circuit \"circuit-88\", counts will be empty.\n"
     ]
    }
   ],
   "source": [
    "backend = BasicAer.get_backend(\"qasm_simulator\")\n",
    "qc = QuantumCircuit(3)\n",
    "\n",
    "# Insert answer's code fragment and assign to variable job\n",
    "job = execute(qc, backend, shots=1024, coupling_map=[[0, 1], [1, 2]])"
   ]
  },
  {
   "cell_type": "markdown",
   "id": "f4b19d3b-db71-4161-861f-ced5648b6630",
   "metadata": {},
   "source": [
    "As you can see, although there is a warning that the output will not be readable, answer A runs flawlessly."
   ]
  },
  {
   "cell_type": "markdown",
   "id": "00136eb6-dfab-436f-8b2e-e098a4d88b00",
   "metadata": {
    "jp-MarkdownHeadingCollapsed": true,
    "tags": []
   },
   "source": [
    "### Answer B"
   ]
  },
  {
   "cell_type": "markdown",
   "id": "f71750b0-e1d5-44bf-b330-b242e59c759c",
   "metadata": {
    "tags": []
   },
   "source": [
    "`execute(qc, backend, shots=1024, custom_topology=[[0,1],[2,3]])`\n",
    "\n",
    "This code fragment properly passes positional parameter before keyword arguments, but it passes a custom coupling map by using a `custom_topology=` keyword.\n",
    "This should be `coupling_map=`.\n",
    "\n",
    "#### Let's take a closer look:"
   ]
  },
  {
   "cell_type": "code",
   "execution_count": 3,
   "id": "9fbe17ec-f8f3-4db3-a00a-7ca7203ae4d5",
   "metadata": {
    "tags": []
   },
   "outputs": [
    {
     "name": "stdout",
     "output_type": "stream",
     "text": [
      "The following warning was raised: Option custom_topology is not used by this backend\n"
     ]
    }
   ],
   "source": [
    "backend = BasicAer.get_backend(\"qasm_simulator\")\n",
    "qc = QuantumCircuit(3)\n",
    "\n",
    "try:\n",
    "    with warnings.catch_warnings(record=False):\n",
    "        # Insert answer's code fragment and assign to variable job\n",
    "        job = execute(qc, backend, shots=1024, custom_topology=[[0, 1], [2, 3]])\n",
    "except Exception as e:\n",
    "    print(f\"The following warning was raised: {e}\")"
   ]
  },
  {
   "cell_type": "markdown",
   "id": "da3bc480-33fb-4345-b821-39747d047ed6",
   "metadata": {},
   "source": [
    "As you can see, answer B raises a warning about the incorrect keyword argument `custom_topology`."
   ]
  },
  {
   "cell_type": "markdown",
   "id": "e894ef46-6324-4b34-bd9c-3fa8cd150391",
   "metadata": {
    "jp-MarkdownHeadingCollapsed": true,
    "tags": []
   },
   "source": [
    "### Answer C"
   ]
  },
  {
   "cell_type": "markdown",
   "id": "01952036-25af-4f21-84e3-7bf8628d4cb8",
   "metadata": {},
   "source": [
    "`execute(qc, backend, shots=1024, device=\"qasm_simulator\", mode=\"custom\")`  \n",
    "\n",
    "Neither the keyword arguments `device=` nor `mode=` are used or recognized.\n",
    "In addition, no coupling map is passed as a parameter to `execute()`.\n",
    "\n",
    "#### Let's take a closer look:"
   ]
  },
  {
   "cell_type": "code",
   "execution_count": 4,
   "id": "20ee2824-6568-4968-bbce-910737713986",
   "metadata": {
    "tags": []
   },
   "outputs": [
    {
     "name": "stdout",
     "output_type": "stream",
     "text": [
      "The following warning was raised: Option device is not used by this backend\n"
     ]
    }
   ],
   "source": [
    "backend = BasicAer.get_backend(\"qasm_simulator\")\n",
    "qc = QuantumCircuit(3)\n",
    "\n",
    "try:\n",
    "    with warnings.catch_warnings(record=False):\n",
    "        # Insert answer's code fragment and assign to variable job\n",
    "        job = execute(qc, backend, shots=1024, device=\"qasm_simulator\", mode=\"custom\")\n",
    "except Exception as e:\n",
    "    print(f\"The following warning was raised: {e}\")"
   ]
  },
  {
   "cell_type": "markdown",
   "id": "41670744-4354-4f34-8b46-f71c27994ab4",
   "metadata": {},
   "source": [
    "As you can see, answer C raises a warning about the incorrect keyword argument `device`."
   ]
  },
  {
   "cell_type": "markdown",
   "id": "15afd510-0fb4-43fa-8caf-7f3ce5e1302e",
   "metadata": {
    "jp-MarkdownHeadingCollapsed": true,
    "tags": []
   },
   "source": [
    "### Answer D"
   ]
  },
  {
   "cell_type": "markdown",
   "id": "162e7c30-818a-4dd8-8c4e-4ff6a47dc3d8",
   "metadata": {},
   "source": [
    "`execute(qc, backend, mode=\"custom\")`  \n",
    "\n",
    "The keyword argument `mode=` is neither used nor recognized.\n",
    "In addition, no coupling map is passed as a parameter to `execute()`.\n",
    "\n",
    "#### Let's take a closer look:"
   ]
  },
  {
   "cell_type": "code",
   "execution_count": 5,
   "id": "f90493bd-a044-4813-9692-933fb33723c1",
   "metadata": {
    "tags": []
   },
   "outputs": [
    {
     "name": "stdout",
     "output_type": "stream",
     "text": [
      "The following warning was raised: Option mode is not used by this backend\n"
     ]
    }
   ],
   "source": [
    "backend = BasicAer.get_backend(\"qasm_simulator\")\n",
    "qc = QuantumCircuit(3)\n",
    "\n",
    "try:\n",
    "    with warnings.catch_warnings(record=False):\n",
    "        # Insert answer's code fragment and assign to variable job\n",
    "        job = execute(qc, backend, mode=\"custom\")\n",
    "except Exception as e:\n",
    "    print(f\"The following warning was raised: {e}\")"
   ]
  },
  {
   "cell_type": "markdown",
   "id": "a2611d56-3c8a-4839-b2a6-574f6188ff90",
   "metadata": {},
   "source": [
    "As you can see, answer D raises a warning about the incorrect keyword argument `mode`."
   ]
  }
 ],
 "metadata": {
  "kernelspec": {
   "display_name": "Python 3 (ipykernel)",
   "language": "python",
   "name": "python3"
  },
  "language_info": {
   "codemirror_mode": {
    "name": "ipython",
    "version": 3
   },
   "file_extension": ".py",
   "mimetype": "text/x-python",
   "name": "python",
   "nbconvert_exporter": "python",
   "pygments_lexer": "ipython3",
   "version": "3.10.6"
  }
 },
 "nbformat": 4,
 "nbformat_minor": 5
}
